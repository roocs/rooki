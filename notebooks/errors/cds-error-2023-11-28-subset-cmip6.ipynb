{
 "cells": [
  {
   "cell_type": "markdown",
   "id": "06f6b441-26f9-4898-8e2e-76351c410318",
   "metadata": {},
   "source": [
    "# CDS error 2023.11.28\n",
    "\n",
    "Process error: The defined _FillValue and missing_value for tas are not the same 1.0000000200408773e 20 != 1e 20 .\n",
    "\n",
    "{\"inputs\": \n",
    "{\"tas\": [\"c3s-cmip6.CMIP.NCAR.CESM2-WACCM.historical.r1i1p1f1.day.tas.gn.v20190227\"]}, \n",
    "\"steps\": \n",
    "{\"subset_tas_1\": \n",
    "{\"run\": \"subset\", \"in\": {\"collection\": \"inputs/tas\", \"area\": \"5,49,7,51\"}}}, \n",
    "\"outputs\": {\"output\": \"subset_tas_1/output\"}, \n",
    "\"doc\": \"workflow\"}\n",
    "\n",
    "\n",
    "## Error in clisops 0.12.0\n",
    "\n",
    "```\n",
    "File \"/usr/local/anaconda/envs/rook/lib/python3.11/site-packages/clisops/ops/subset.py\", line 233, in subset\n",
    "    return op.process()\n",
    "           ^^^^^^^^^^^^\n",
    "  File \"/usr/local/anaconda/envs/rook/lib/python3.11/site-packages/clisops/ops/base_operation.py\", line 146, in process\n",
    "    processed_ds = self._remove_redundant_fill_values(processed_ds)\n",
    "                   ^^^^^^^^^^^^^^^^^^^^^^^^^^^^^^^^^^^^^^^^^^^^^^^^\n",
    "  File \"/usr/local/anaconda/envs/rook/lib/python3.11/site-packages/clisops/ops/base_operation.py\", line 94, in _remove_redundant_fill_values\n",
    "    raise Exception(\n",
    "Exception: The defined _FillValue and missing_value for 'tas' are not the same '1.0000000200408773e+20' != '1e+20'.\n",
    "```"
   ]
  },
  {
   "cell_type": "code",
   "execution_count": 1,
   "id": "6a0ed188-2d03-4780-a0ad-12fa988eaa0c",
   "metadata": {},
   "outputs": [],
   "source": [
    "from rooki import operators as ops"
   ]
  },
  {
   "cell_type": "markdown",
   "id": "197b7dd9-c46e-49a4-8096-2f8893c29748",
   "metadata": {},
   "source": [
    "## error request"
   ]
  },
  {
   "cell_type": "code",
   "execution_count": 7,
   "id": "ec534e27-d66a-4086-a373-cc2ed1caf1d9",
   "metadata": {},
   "outputs": [
    {
     "data": {
      "text/plain": [
       "True"
      ]
     },
     "execution_count": 7,
     "metadata": {},
     "output_type": "execute_result"
    }
   ],
   "source": [
    "wf = ops.Subset(\n",
    "        ops.Input(\n",
    "            'tas', ['c3s-cmip6.CMIP.NCAR.CESM2-WACCM.historical.r1i1p1f1.day.tas.gn.v20190227']\n",
    "        ),\n",
    "        area=\"5,49,7,51\",\n",
    "        time=\"2000/2000\"\n",
    ")\n",
    "resp = wf.orchestrate()\n",
    "resp.ok"
   ]
  },
  {
   "cell_type": "code",
   "execution_count": 8,
   "id": "c8e64c0e-6917-4fc3-b76e-d5661d9537cf",
   "metadata": {},
   "outputs": [
    {
     "data": {
      "text/plain": [
       "'ProcessSucceeded'"
      ]
     },
     "execution_count": 8,
     "metadata": {},
     "output_type": "execute_result"
    }
   ],
   "source": [
    "resp.status"
   ]
  },
  {
   "cell_type": "code",
   "execution_count": 11,
   "id": "b2acbc3d-561a-4784-b09e-9c9a97bc76a2",
   "metadata": {},
   "outputs": [
    {
     "data": {
      "text/plain": [
       "['http://rook4.cloud.dkrz.de:80/outputs/rook/ebe92884-8dff-11ee-b4ef-fa163ed6c06f/tas_day_CESM2-WACCM_historical_r1i1p1f1_gn_20000101-20001231.nc']"
      ]
     },
     "execution_count": 11,
     "metadata": {},
     "output_type": "execute_result"
    }
   ],
   "source": [
    "resp.download_urls()"
   ]
  },
  {
   "cell_type": "code",
   "execution_count": null,
   "id": "2ae7ec3d-2c6f-4c8a-afe2-876bf5bf5e0b",
   "metadata": {},
   "outputs": [],
   "source": []
  }
 ],
 "metadata": {
  "kernelspec": {
   "display_name": "Python 3 (ipykernel)",
   "language": "python",
   "name": "python3"
  },
  "language_info": {
   "codemirror_mode": {
    "name": "ipython",
    "version": 3
   },
   "file_extension": ".py",
   "mimetype": "text/x-python",
   "name": "python",
   "nbconvert_exporter": "python",
   "pygments_lexer": "ipython3",
   "version": "3.12.0"
  }
 },
 "nbformat": 4,
 "nbformat_minor": 5
}
