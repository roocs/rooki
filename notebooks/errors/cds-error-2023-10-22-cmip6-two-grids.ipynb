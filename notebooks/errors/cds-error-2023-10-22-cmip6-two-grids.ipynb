{
 "cells": [
  {
   "cell_type": "markdown",
   "id": "0e136039-39be-4828-ac78-e6f05e6e4502",
   "metadata": {},
   "source": [
    "## CMIP6 Error reported by CDS 2023/10/22: two grids gn and gr1"
   ]
  },
  {
   "cell_type": "code",
   "execution_count": 1,
   "id": "4f1adb85-4333-46c2-9b38-ab2c95ce479a",
   "metadata": {},
   "outputs": [],
   "source": [
    "import os\n",
    "# DKRZ Test\n",
    "os.environ['ROOK_URL'] = 'http://rook.dkrz.de/wps'\n",
    "\n",
    "from rooki import operators as ops"
   ]
  },
  {
   "cell_type": "markdown",
   "id": "d68aada0-9e42-4308-86e9-84d985463a50",
   "metadata": {},
   "source": [
    "## cmip6 dataset fails\n",
    "\n",
    "We just got a user question about CMIP6. She wanted to download monthly, SSP3-7.0 data of sea surface temperature of the CNRM-CM6-1 model for the period 2016-2100. \n",
    "See below the API request. She asked for a subsetting but it has no significance here. \n",
    "Her request fails! I made some tests and it seems that model is available only until 2050 (all good to download data until 2049).\n",
    " \n",
    "Since the CDS user interface suggests the 2050-2100 period too, it gives the impression that the data are available, but this is not the case.\n",
    " \n",
    "It seems that the data is available until 2055 at the ESGF.\n",
    " "
   ]
  },
  {
   "cell_type": "raw",
   "id": "80eec93a-d74d-4849-af60-a55f17550ef3",
   "metadata": {},
   "source": [
    "import cdsapi\n",
    "\n",
    "c = cdsapi.Client()\n",
    "\n",
    "c.retrieve(\n",
    "\n",
    "    'projections-cmip6',\n",
    "\n",
    "    {\n",
    "\n",
    "        'temporal_resolution': 'monthly',\n",
    "\n",
    "        'experiment': 'ssp3_7_0',\n",
    "\n",
    "        'variable': 'sea_surface_temperature',\n",
    "\n",
    "        'model': 'cnrm_cm6_1',\n",
    "\n",
    "        'year': [\n",
    "\n",
    "            '2015', '2016', '2017',\n",
    "\n",
    "            '2018', '2019', '2020',\n",
    "\n",
    "            '2021', '2022', '2023',\n",
    "\n",
    "            '2024', '2025', '2026',\n",
    "\n",
    "            '2027', '2028', '2029',\n",
    "\n",
    "            '2030', '2031', '2032',\n",
    "\n",
    "            '2033', '2034', '2035',\n",
    "\n",
    "            '2036', '2037', '2038',\n",
    "\n",
    "            '2039', '2040', '2041',\n",
    "\n",
    "            '2042', '2043', '2044',\n",
    "\n",
    "            '2045', '2046', '2047',\n",
    "\n",
    "            '2048', '2049', '2050',\n",
    "\n",
    "            '2051', '2052', '2053',\n",
    "\n",
    "            '2054', '2055', '2056',\n",
    "\n",
    "            '2057', '2058', '2059',\n",
    "\n",
    "            '2060', '2061', '2062',\n",
    "\n",
    "            '2063', '2064', '2065',\n",
    "\n",
    "            '2066', '2067', '2068',\n",
    "\n",
    "            '2069', '2070', '2071',\n",
    "\n",
    "            '2072', '2073', '2074',\n",
    "\n",
    "            '2075', '2076', '2077',\n",
    "\n",
    "            '2078', '2079', '2080',\n",
    "\n",
    "            '2081', '2082', '2083',\n",
    "\n",
    "            '2084', '2085', '2086',\n",
    "\n",
    "            '2087', '2088', '2089',\n",
    "\n",
    "            '2090', '2091', '2092',\n",
    "\n",
    "            '2093', '2094', '2095',\n",
    "\n",
    "            '2096', '2097', '2098',\n",
    "\n",
    "            '2099',\n",
    "\n",
    "        ],\n",
    "\n",
    "        'month': [\n",
    "\n",
    "            '01', '02', '03',\n",
    "\n",
    "            '04', '05', '06',\n",
    "\n",
    "            '07', '08', '09',\n",
    "\n",
    "            '10', '11', '12',\n",
    "\n",
    "        ],\n",
    "\n",
    "        'area': [\n",
    "\n",
    "            42.8, 17.01, -31.3,\n",
    "\n",
    "            31.3,\n",
    "\n",
    "        ],\n",
    "\n",
    "        'format': 'zip',\n",
    "\n",
    "    },\n",
    "\n",
    "    'download.zip')"
   ]
  },
  {
   "cell_type": "markdown",
   "id": "a5e246d0-f3ac-4a2b-a39c-707584bfa0ee",
   "metadata": {},
   "source": [
    "## check intake catalog"
   ]
  },
  {
   "cell_type": "code",
   "execution_count": 2,
   "id": "54944483-4bbc-4d5f-bb5a-3e5608e6529b",
   "metadata": {},
   "outputs": [],
   "source": [
    "import intake"
   ]
  },
  {
   "cell_type": "code",
   "execution_count": 3,
   "id": "01963f08-9300-4e26-a6ba-bff559eb1c95",
   "metadata": {},
   "outputs": [
    {
     "data": {
      "text/plain": [
       "['c3s-cmip5',\n",
       " 'c3s-cmip5-daily-pressure-level',\n",
       " 'c3s-cmip5-daily-single-level',\n",
       " 'c3s-cmip5-monthly-pressure-level',\n",
       " 'c3s-cmip5-monthly-single-level',\n",
       " 'c3s-cmip6',\n",
       " 'c3s-cmip6-decadal',\n",
       " 'c3s-cordex',\n",
       " 'c3s-ipcc-atlas']"
      ]
     },
     "execution_count": 3,
     "metadata": {},
     "output_type": "execute_result"
    }
   ],
   "source": [
    "cat_url = \"https://raw.githubusercontent.com/cp4cds/c3s_34g_manifests/master/intake/catalogs/c3s.yaml\"\n",
    "\n",
    "cat = intake.open_catalog(cat_url)\n",
    "list(cat)"
   ]
  },
  {
   "cell_type": "code",
   "execution_count": 4,
   "id": "8650e636-f443-4d12-95a1-7a3e3528bdbf",
   "metadata": {},
   "outputs": [
    {
     "name": "stderr",
     "output_type": "stream",
     "text": [
      "/usr/local/Caskroom/mambaforge/base/envs/rooki/lib/python3.11/site-packages/dask/dataframe/io/csv.py:542: UserWarning: Warning gzip compression does not support breaking apart files\n",
      "Please ensure that each individual file can fit in memory and\n",
      "use the keyword ``blocksize=None to remove this message``\n",
      "Setting ``blocksize=None``\n",
      "  warn(\n"
     ]
    },
    {
     "data": {
      "text/html": [
       "<div>\n",
       "<style scoped>\n",
       "    .dataframe tbody tr th:only-of-type {\n",
       "        vertical-align: middle;\n",
       "    }\n",
       "\n",
       "    .dataframe tbody tr th {\n",
       "        vertical-align: top;\n",
       "    }\n",
       "\n",
       "    .dataframe thead th {\n",
       "        text-align: right;\n",
       "    }\n",
       "</style>\n",
       "<table border=\"1\" class=\"dataframe\">\n",
       "  <thead>\n",
       "    <tr style=\"text-align: right;\">\n",
       "      <th></th>\n",
       "      <th>ds_id</th>\n",
       "      <th>path</th>\n",
       "      <th>size</th>\n",
       "      <th>mip_era</th>\n",
       "      <th>activity_id</th>\n",
       "      <th>institution_id</th>\n",
       "      <th>source_id</th>\n",
       "      <th>experiment_id</th>\n",
       "      <th>member_id</th>\n",
       "      <th>table_id</th>\n",
       "      <th>variable_id</th>\n",
       "      <th>grid_label</th>\n",
       "      <th>version</th>\n",
       "      <th>start_time</th>\n",
       "      <th>end_time</th>\n",
       "      <th>bbox</th>\n",
       "      <th>level</th>\n",
       "    </tr>\n",
       "  </thead>\n",
       "  <tbody>\n",
       "    <tr>\n",
       "      <th>0</th>\n",
       "      <td>c3s-cmip6.ScenarioMIP.MOHC.UKESM1-0-LL.ssp245....</td>\n",
       "      <td>ScenarioMIP/MOHC/UKESM1-0-LL/ssp245/r1i1p1f2/A...</td>\n",
       "      <td>28037112</td>\n",
       "      <td>c3s-cmip6</td>\n",
       "      <td>ScenarioMIP</td>\n",
       "      <td>MOHC</td>\n",
       "      <td>UKESM1-0-LL</td>\n",
       "      <td>ssp245</td>\n",
       "      <td>r1i1p1f2</td>\n",
       "      <td>Amon</td>\n",
       "      <td>ts</td>\n",
       "      <td>gn</td>\n",
       "      <td>v20190507</td>\n",
       "      <td>2015-01-16T00:00:00</td>\n",
       "      <td>2049-12-16T00:00:00</td>\n",
       "      <td>0.94, -89.38, 359.06, 89.38</td>\n",
       "      <td>NaN</td>\n",
       "    </tr>\n",
       "    <tr>\n",
       "      <th>1</th>\n",
       "      <td>c3s-cmip6.ScenarioMIP.MOHC.UKESM1-0-LL.ssp245....</td>\n",
       "      <td>ScenarioMIP/MOHC/UKESM1-0-LL/ssp245/r1i1p1f2/A...</td>\n",
       "      <td>38838222</td>\n",
       "      <td>c3s-cmip6</td>\n",
       "      <td>ScenarioMIP</td>\n",
       "      <td>MOHC</td>\n",
       "      <td>UKESM1-0-LL</td>\n",
       "      <td>ssp245</td>\n",
       "      <td>r1i1p1f2</td>\n",
       "      <td>Amon</td>\n",
       "      <td>ts</td>\n",
       "      <td>gn</td>\n",
       "      <td>v20190507</td>\n",
       "      <td>2050-01-16T00:00:00</td>\n",
       "      <td>2100-12-16T00:00:00</td>\n",
       "      <td>0.94, -89.38, 359.06, 89.38</td>\n",
       "      <td>NaN</td>\n",
       "    </tr>\n",
       "    <tr>\n",
       "      <th>2</th>\n",
       "      <td>c3s-cmip6.ScenarioMIP.NCAR.CESM2.ssp370.r4i1p1...</td>\n",
       "      <td>ScenarioMIP/NCAR/CESM2/ssp370/r4i1p1f1/Amon/pr...</td>\n",
       "      <td>104081588</td>\n",
       "      <td>c3s-cmip6</td>\n",
       "      <td>ScenarioMIP</td>\n",
       "      <td>NCAR</td>\n",
       "      <td>CESM2</td>\n",
       "      <td>ssp370</td>\n",
       "      <td>r4i1p1f1</td>\n",
       "      <td>Amon</td>\n",
       "      <td>pr</td>\n",
       "      <td>gn</td>\n",
       "      <td>v20200528</td>\n",
       "      <td>2015-01-15T12:00:00</td>\n",
       "      <td>2064-12-15T12:00:00</td>\n",
       "      <td>0.00, -90.00, 358.75, 90.00</td>\n",
       "      <td>NaN</td>\n",
       "    </tr>\n",
       "    <tr>\n",
       "      <th>3</th>\n",
       "      <td>c3s-cmip6.ScenarioMIP.NCAR.CESM2.ssp370.r4i1p1...</td>\n",
       "      <td>ScenarioMIP/NCAR/CESM2/ssp370/r4i1p1f1/Amon/pr...</td>\n",
       "      <td>74977662</td>\n",
       "      <td>c3s-cmip6</td>\n",
       "      <td>ScenarioMIP</td>\n",
       "      <td>NCAR</td>\n",
       "      <td>CESM2</td>\n",
       "      <td>ssp370</td>\n",
       "      <td>r4i1p1f1</td>\n",
       "      <td>Amon</td>\n",
       "      <td>pr</td>\n",
       "      <td>gn</td>\n",
       "      <td>v20200528</td>\n",
       "      <td>2065-01-15T12:00:00</td>\n",
       "      <td>2100-12-15T12:00:00</td>\n",
       "      <td>0.00, -90.00, 358.75, 90.00</td>\n",
       "      <td>NaN</td>\n",
       "    </tr>\n",
       "    <tr>\n",
       "      <th>4</th>\n",
       "      <td>c3s-cmip6.ScenarioMIP.AS-RCEC.TaiESM1.ssp370.r...</td>\n",
       "      <td>ScenarioMIP/AS-RCEC/TaiESM1/ssp370/r1i1p1f1/Am...</td>\n",
       "      <td>144277888</td>\n",
       "      <td>c3s-cmip6</td>\n",
       "      <td>ScenarioMIP</td>\n",
       "      <td>AS-RCEC</td>\n",
       "      <td>TaiESM1</td>\n",
       "      <td>ssp370</td>\n",
       "      <td>r1i1p1f1</td>\n",
       "      <td>Amon</td>\n",
       "      <td>rlut</td>\n",
       "      <td>gn</td>\n",
       "      <td>v20201014</td>\n",
       "      <td>2015-01-16T12:00:00</td>\n",
       "      <td>2100-12-16T12:00:00</td>\n",
       "      <td>0.00, -90.00, 358.75, 90.00</td>\n",
       "      <td>NaN</td>\n",
       "    </tr>\n",
       "    <tr>\n",
       "      <th>...</th>\n",
       "      <td>...</td>\n",
       "      <td>...</td>\n",
       "      <td>...</td>\n",
       "      <td>...</td>\n",
       "      <td>...</td>\n",
       "      <td>...</td>\n",
       "      <td>...</td>\n",
       "      <td>...</td>\n",
       "      <td>...</td>\n",
       "      <td>...</td>\n",
       "      <td>...</td>\n",
       "      <td>...</td>\n",
       "      <td>...</td>\n",
       "      <td>...</td>\n",
       "      <td>...</td>\n",
       "      <td>...</td>\n",
       "      <td>...</td>\n",
       "    </tr>\n",
       "    <tr>\n",
       "      <th>133154</th>\n",
       "      <td>c3s-cmip6.CMIP.MIROC.MIROC-ES2H.historical.r1i...</td>\n",
       "      <td>CMIP/MIROC/MIROC-ES2H/historical/r1i1p4f2/Amon...</td>\n",
       "      <td>204026121</td>\n",
       "      <td>c3s-cmip6</td>\n",
       "      <td>CMIP</td>\n",
       "      <td>MIROC</td>\n",
       "      <td>MIROC-ES2H</td>\n",
       "      <td>historical</td>\n",
       "      <td>r1i1p4f2</td>\n",
       "      <td>Amon</td>\n",
       "      <td>tauu</td>\n",
       "      <td>gn</td>\n",
       "      <td>v20220322</td>\n",
       "      <td>1850-01-16T12:00:00</td>\n",
       "      <td>2014-12-16T12:00:00</td>\n",
       "      <td>0.00, -88.93, 358.59, 88.93</td>\n",
       "      <td>NaN</td>\n",
       "    </tr>\n",
       "    <tr>\n",
       "      <th>133155</th>\n",
       "      <td>c3s-cmip6.CMIP.MIROC.MIROC-ES2H.historical.r1i...</td>\n",
       "      <td>CMIP/MIROC/MIROC-ES2H/historical/r1i1p4f2/Amon...</td>\n",
       "      <td>164344947</td>\n",
       "      <td>c3s-cmip6</td>\n",
       "      <td>CMIP</td>\n",
       "      <td>MIROC</td>\n",
       "      <td>MIROC-ES2H</td>\n",
       "      <td>historical</td>\n",
       "      <td>r1i1p4f2</td>\n",
       "      <td>Amon</td>\n",
       "      <td>rlus</td>\n",
       "      <td>gn</td>\n",
       "      <td>v20220322</td>\n",
       "      <td>1850-01-16T12:00:00</td>\n",
       "      <td>2014-12-16T12:00:00</td>\n",
       "      <td>0.00, -88.93, 358.59, 88.93</td>\n",
       "      <td>NaN</td>\n",
       "    </tr>\n",
       "    <tr>\n",
       "      <th>133156</th>\n",
       "      <td>c3s-cmip6.CMIP.MIROC.MIROC-ES2H.historical.r1i...</td>\n",
       "      <td>CMIP/MIROC/MIROC-ES2H/historical/r1i1p4f2/Amon...</td>\n",
       "      <td>3420481903</td>\n",
       "      <td>c3s-cmip6</td>\n",
       "      <td>CMIP</td>\n",
       "      <td>MIROC</td>\n",
       "      <td>MIROC-ES2H</td>\n",
       "      <td>historical</td>\n",
       "      <td>r1i1p4f2</td>\n",
       "      <td>Amon</td>\n",
       "      <td>ua</td>\n",
       "      <td>gn</td>\n",
       "      <td>v20220322</td>\n",
       "      <td>1850-01-16T12:00:00</td>\n",
       "      <td>2014-12-16T12:00:00</td>\n",
       "      <td>0.00, -88.93, 358.59, 88.93</td>\n",
       "      <td>100.00 500.00 1000.00 2000.00 3000.00 5000.00 ...</td>\n",
       "    </tr>\n",
       "    <tr>\n",
       "      <th>133157</th>\n",
       "      <td>c3s-cmip6.CMIP.MIROC.MIROC-ES2H.historical.r1i...</td>\n",
       "      <td>CMIP/MIROC/MIROC-ES2H/historical/r1i1p4f2/Amon...</td>\n",
       "      <td>143468073</td>\n",
       "      <td>c3s-cmip6</td>\n",
       "      <td>CMIP</td>\n",
       "      <td>MIROC</td>\n",
       "      <td>MIROC-ES2H</td>\n",
       "      <td>historical</td>\n",
       "      <td>r1i1p4f2</td>\n",
       "      <td>Amon</td>\n",
       "      <td>tasmin</td>\n",
       "      <td>gn</td>\n",
       "      <td>v20220322</td>\n",
       "      <td>1850-01-16T12:00:00</td>\n",
       "      <td>2014-12-16T12:00:00</td>\n",
       "      <td>0.00, -88.93, 358.59, 88.93</td>\n",
       "      <td>2.00</td>\n",
       "    </tr>\n",
       "    <tr>\n",
       "      <th>133158</th>\n",
       "      <td>c3s-cmip6.CMIP.MIROC.MIROC-ES2H.historical.r1i...</td>\n",
       "      <td>CMIP/MIROC/MIROC-ES2H/historical/r1i1p4f2/Amon...</td>\n",
       "      <td>86270014</td>\n",
       "      <td>c3s-cmip6</td>\n",
       "      <td>CMIP</td>\n",
       "      <td>MIROC</td>\n",
       "      <td>MIROC-ES2H</td>\n",
       "      <td>historical</td>\n",
       "      <td>r1i1p4f2</td>\n",
       "      <td>Amon</td>\n",
       "      <td>prsn</td>\n",
       "      <td>gn</td>\n",
       "      <td>v20220322</td>\n",
       "      <td>1850-01-16T12:00:00</td>\n",
       "      <td>2014-12-16T12:00:00</td>\n",
       "      <td>0.00, -88.93, 358.59, 88.93</td>\n",
       "      <td>NaN</td>\n",
       "    </tr>\n",
       "  </tbody>\n",
       "</table>\n",
       "<p>133159 rows × 17 columns</p>\n",
       "</div>"
      ],
      "text/plain": [
       "                                                    ds_id   \n",
       "0       c3s-cmip6.ScenarioMIP.MOHC.UKESM1-0-LL.ssp245....  \\\n",
       "1       c3s-cmip6.ScenarioMIP.MOHC.UKESM1-0-LL.ssp245....   \n",
       "2       c3s-cmip6.ScenarioMIP.NCAR.CESM2.ssp370.r4i1p1...   \n",
       "3       c3s-cmip6.ScenarioMIP.NCAR.CESM2.ssp370.r4i1p1...   \n",
       "4       c3s-cmip6.ScenarioMIP.AS-RCEC.TaiESM1.ssp370.r...   \n",
       "...                                                   ...   \n",
       "133154  c3s-cmip6.CMIP.MIROC.MIROC-ES2H.historical.r1i...   \n",
       "133155  c3s-cmip6.CMIP.MIROC.MIROC-ES2H.historical.r1i...   \n",
       "133156  c3s-cmip6.CMIP.MIROC.MIROC-ES2H.historical.r1i...   \n",
       "133157  c3s-cmip6.CMIP.MIROC.MIROC-ES2H.historical.r1i...   \n",
       "133158  c3s-cmip6.CMIP.MIROC.MIROC-ES2H.historical.r1i...   \n",
       "\n",
       "                                                     path        size   \n",
       "0       ScenarioMIP/MOHC/UKESM1-0-LL/ssp245/r1i1p1f2/A...    28037112  \\\n",
       "1       ScenarioMIP/MOHC/UKESM1-0-LL/ssp245/r1i1p1f2/A...    38838222   \n",
       "2       ScenarioMIP/NCAR/CESM2/ssp370/r4i1p1f1/Amon/pr...   104081588   \n",
       "3       ScenarioMIP/NCAR/CESM2/ssp370/r4i1p1f1/Amon/pr...    74977662   \n",
       "4       ScenarioMIP/AS-RCEC/TaiESM1/ssp370/r1i1p1f1/Am...   144277888   \n",
       "...                                                   ...         ...   \n",
       "133154  CMIP/MIROC/MIROC-ES2H/historical/r1i1p4f2/Amon...   204026121   \n",
       "133155  CMIP/MIROC/MIROC-ES2H/historical/r1i1p4f2/Amon...   164344947   \n",
       "133156  CMIP/MIROC/MIROC-ES2H/historical/r1i1p4f2/Amon...  3420481903   \n",
       "133157  CMIP/MIROC/MIROC-ES2H/historical/r1i1p4f2/Amon...   143468073   \n",
       "133158  CMIP/MIROC/MIROC-ES2H/historical/r1i1p4f2/Amon...    86270014   \n",
       "\n",
       "          mip_era  activity_id institution_id    source_id experiment_id   \n",
       "0       c3s-cmip6  ScenarioMIP           MOHC  UKESM1-0-LL        ssp245  \\\n",
       "1       c3s-cmip6  ScenarioMIP           MOHC  UKESM1-0-LL        ssp245   \n",
       "2       c3s-cmip6  ScenarioMIP           NCAR        CESM2        ssp370   \n",
       "3       c3s-cmip6  ScenarioMIP           NCAR        CESM2        ssp370   \n",
       "4       c3s-cmip6  ScenarioMIP        AS-RCEC      TaiESM1        ssp370   \n",
       "...           ...          ...            ...          ...           ...   \n",
       "133154  c3s-cmip6         CMIP          MIROC   MIROC-ES2H    historical   \n",
       "133155  c3s-cmip6         CMIP          MIROC   MIROC-ES2H    historical   \n",
       "133156  c3s-cmip6         CMIP          MIROC   MIROC-ES2H    historical   \n",
       "133157  c3s-cmip6         CMIP          MIROC   MIROC-ES2H    historical   \n",
       "133158  c3s-cmip6         CMIP          MIROC   MIROC-ES2H    historical   \n",
       "\n",
       "       member_id table_id variable_id grid_label    version   \n",
       "0       r1i1p1f2     Amon          ts         gn  v20190507  \\\n",
       "1       r1i1p1f2     Amon          ts         gn  v20190507   \n",
       "2       r4i1p1f1     Amon          pr         gn  v20200528   \n",
       "3       r4i1p1f1     Amon          pr         gn  v20200528   \n",
       "4       r1i1p1f1     Amon        rlut         gn  v20201014   \n",
       "...          ...      ...         ...        ...        ...   \n",
       "133154  r1i1p4f2     Amon        tauu         gn  v20220322   \n",
       "133155  r1i1p4f2     Amon        rlus         gn  v20220322   \n",
       "133156  r1i1p4f2     Amon          ua         gn  v20220322   \n",
       "133157  r1i1p4f2     Amon      tasmin         gn  v20220322   \n",
       "133158  r1i1p4f2     Amon        prsn         gn  v20220322   \n",
       "\n",
       "                 start_time             end_time                         bbox   \n",
       "0       2015-01-16T00:00:00  2049-12-16T00:00:00  0.94, -89.38, 359.06, 89.38  \\\n",
       "1       2050-01-16T00:00:00  2100-12-16T00:00:00  0.94, -89.38, 359.06, 89.38   \n",
       "2       2015-01-15T12:00:00  2064-12-15T12:00:00  0.00, -90.00, 358.75, 90.00   \n",
       "3       2065-01-15T12:00:00  2100-12-15T12:00:00  0.00, -90.00, 358.75, 90.00   \n",
       "4       2015-01-16T12:00:00  2100-12-16T12:00:00  0.00, -90.00, 358.75, 90.00   \n",
       "...                     ...                  ...                          ...   \n",
       "133154  1850-01-16T12:00:00  2014-12-16T12:00:00  0.00, -88.93, 358.59, 88.93   \n",
       "133155  1850-01-16T12:00:00  2014-12-16T12:00:00  0.00, -88.93, 358.59, 88.93   \n",
       "133156  1850-01-16T12:00:00  2014-12-16T12:00:00  0.00, -88.93, 358.59, 88.93   \n",
       "133157  1850-01-16T12:00:00  2014-12-16T12:00:00  0.00, -88.93, 358.59, 88.93   \n",
       "133158  1850-01-16T12:00:00  2014-12-16T12:00:00  0.00, -88.93, 358.59, 88.93   \n",
       "\n",
       "                                                    level  \n",
       "0                                                     NaN  \n",
       "1                                                     NaN  \n",
       "2                                                     NaN  \n",
       "3                                                     NaN  \n",
       "4                                                     NaN  \n",
       "...                                                   ...  \n",
       "133154                                                NaN  \n",
       "133155                                                NaN  \n",
       "133156  100.00 500.00 1000.00 2000.00 3000.00 5000.00 ...  \n",
       "133157                                               2.00  \n",
       "133158                                                NaN  \n",
       "\n",
       "[133159 rows x 17 columns]"
      ]
     },
     "execution_count": 4,
     "metadata": {},
     "output_type": "execute_result"
    }
   ],
   "source": [
    "df_cmip6 = cat['c3s-cmip6'].read()\n",
    "df_cmip6"
   ]
  },
  {
   "cell_type": "code",
   "execution_count": 5,
   "id": "af7781a8-a5ff-4b09-80e6-67728453f2aa",
   "metadata": {},
   "outputs": [
    {
     "data": {
      "text/html": [
       "<div>\n",
       "<style scoped>\n",
       "    .dataframe tbody tr th:only-of-type {\n",
       "        vertical-align: middle;\n",
       "    }\n",
       "\n",
       "    .dataframe tbody tr th {\n",
       "        vertical-align: top;\n",
       "    }\n",
       "\n",
       "    .dataframe thead th {\n",
       "        text-align: right;\n",
       "    }\n",
       "</style>\n",
       "<table border=\"1\" class=\"dataframe\">\n",
       "  <thead>\n",
       "    <tr style=\"text-align: right;\">\n",
       "      <th></th>\n",
       "      <th>ds_id</th>\n",
       "      <th>path</th>\n",
       "      <th>size</th>\n",
       "      <th>mip_era</th>\n",
       "      <th>activity_id</th>\n",
       "      <th>institution_id</th>\n",
       "      <th>source_id</th>\n",
       "      <th>experiment_id</th>\n",
       "      <th>member_id</th>\n",
       "      <th>table_id</th>\n",
       "      <th>variable_id</th>\n",
       "      <th>grid_label</th>\n",
       "      <th>version</th>\n",
       "      <th>start_time</th>\n",
       "      <th>end_time</th>\n",
       "      <th>bbox</th>\n",
       "      <th>level</th>\n",
       "    </tr>\n",
       "  </thead>\n",
       "  <tbody>\n",
       "    <tr>\n",
       "      <th>35359</th>\n",
       "      <td>c3s-cmip6.ScenarioMIP.CNRM-CERFACS.CNRM-CM6-1....</td>\n",
       "      <td>ScenarioMIP/CNRM-CERFACS/CNRM-CM6-1/ssp370/r1i...</td>\n",
       "      <td>63631250</td>\n",
       "      <td>c3s-cmip6</td>\n",
       "      <td>ScenarioMIP</td>\n",
       "      <td>CNRM-CERFACS</td>\n",
       "      <td>CNRM-CM6-1</td>\n",
       "      <td>ssp370</td>\n",
       "      <td>r1i1p1f2</td>\n",
       "      <td>Omon</td>\n",
       "      <td>tos</td>\n",
       "      <td>gr1</td>\n",
       "      <td>v20190219</td>\n",
       "      <td>2015-01-16T12:00:00</td>\n",
       "      <td>2055-12-16T12:00:00</td>\n",
       "      <td>0.50, -89.50, 359.50, 89.50</td>\n",
       "      <td>NaN</td>\n",
       "    </tr>\n",
       "    <tr>\n",
       "      <th>85037</th>\n",
       "      <td>c3s-cmip6.ScenarioMIP.CNRM-CERFACS.CNRM-CM6-1....</td>\n",
       "      <td>ScenarioMIP/CNRM-CERFACS/CNRM-CM6-1/ssp370/r1i...</td>\n",
       "      <td>211023046</td>\n",
       "      <td>c3s-cmip6</td>\n",
       "      <td>ScenarioMIP</td>\n",
       "      <td>CNRM-CERFACS</td>\n",
       "      <td>CNRM-CM6-1</td>\n",
       "      <td>ssp370</td>\n",
       "      <td>r1i1p1f2</td>\n",
       "      <td>Omon</td>\n",
       "      <td>tos</td>\n",
       "      <td>gn</td>\n",
       "      <td>v20190219</td>\n",
       "      <td>2015-01-16T12:00:00</td>\n",
       "      <td>2100-12-16T12:00:00</td>\n",
       "      <td>-180.00, -79.01, 179.99, 89.74</td>\n",
       "      <td>NaN</td>\n",
       "    </tr>\n",
       "  </tbody>\n",
       "</table>\n",
       "</div>"
      ],
      "text/plain": [
       "                                                   ds_id   \n",
       "35359  c3s-cmip6.ScenarioMIP.CNRM-CERFACS.CNRM-CM6-1....  \\\n",
       "85037  c3s-cmip6.ScenarioMIP.CNRM-CERFACS.CNRM-CM6-1....   \n",
       "\n",
       "                                                    path       size   \n",
       "35359  ScenarioMIP/CNRM-CERFACS/CNRM-CM6-1/ssp370/r1i...   63631250  \\\n",
       "85037  ScenarioMIP/CNRM-CERFACS/CNRM-CM6-1/ssp370/r1i...  211023046   \n",
       "\n",
       "         mip_era  activity_id institution_id   source_id experiment_id   \n",
       "35359  c3s-cmip6  ScenarioMIP   CNRM-CERFACS  CNRM-CM6-1        ssp370  \\\n",
       "85037  c3s-cmip6  ScenarioMIP   CNRM-CERFACS  CNRM-CM6-1        ssp370   \n",
       "\n",
       "      member_id table_id variable_id grid_label    version   \n",
       "35359  r1i1p1f2     Omon         tos        gr1  v20190219  \\\n",
       "85037  r1i1p1f2     Omon         tos         gn  v20190219   \n",
       "\n",
       "                start_time             end_time   \n",
       "35359  2015-01-16T12:00:00  2055-12-16T12:00:00  \\\n",
       "85037  2015-01-16T12:00:00  2100-12-16T12:00:00   \n",
       "\n",
       "                                 bbox level  \n",
       "35359     0.50, -89.50, 359.50, 89.50   NaN  \n",
       "85037  -180.00, -79.01, 179.99, 89.74   NaN  "
      ]
     },
     "execution_count": 5,
     "metadata": {},
     "output_type": "execute_result"
    }
   ],
   "source": [
    "df = df_cmip6.loc[\n",
    "    (df_cmip6.activity_id==\"ScenarioMIP\")\n",
    "    & (df_cmip6.institution_id==\"CNRM-CERFACS\")\n",
    "    & (df_cmip6.source_id==\"CNRM-CM6-1\")\n",
    "    & (df_cmip6.experiment_id==\"ssp370\")\n",
    "    & (df_cmip6.member_id==\"r1i1p1f2\")\n",
    "    & (df_cmip6.table_id==\"Omon\")\n",
    "    & (df_cmip6.variable_id==\"tos\")\n",
    "]\n",
    "df"
   ]
  },
  {
   "cell_type": "code",
   "execution_count": 6,
   "id": "d08916e2-2605-467c-8f96-7a78d4fa505b",
   "metadata": {},
   "outputs": [
    {
     "data": {
      "text/plain": [
       "array(['gr1', 'gn'], dtype=object)"
      ]
     },
     "execution_count": 6,
     "metadata": {},
     "output_type": "execute_result"
    }
   ],
   "source": [
    "# found two grid labels: gn and gr1\n",
    "\n",
    "df.grid_label.unique()"
   ]
  },
  {
   "cell_type": "markdown",
   "id": "0c598790-a94f-4f62-a98f-7a29e58d330c",
   "metadata": {},
   "source": [
    "## Get whole file: grid gn"
   ]
  },
  {
   "cell_type": "code",
   "execution_count": 7,
   "id": "8b8e70c8-011c-47c5-b41e-9185813fbe30",
   "metadata": {},
   "outputs": [
    {
     "data": {
      "text/plain": [
       "True"
      ]
     },
     "execution_count": 7,
     "metadata": {},
     "output_type": "execute_result"
    }
   ],
   "source": [
    "wf = ops.Subset(\n",
    "        ops.Input(\n",
    "            'tos', ['c3s-cmip6.ScenarioMIP.CNRM-CERFACS.CNRM-CM6-1.ssp370.r1i1p1f2.Omon.tos.gn.v20190219']\n",
    "        ),\n",
    ")\n",
    "resp = wf.orchestrate()\n",
    "resp.ok"
   ]
  },
  {
   "cell_type": "code",
   "execution_count": 8,
   "id": "56911617-8c6f-4c86-bfe5-aba0629c76fe",
   "metadata": {},
   "outputs": [
    {
     "data": {
      "text/plain": [
       "['https://data.mips.copernicus-climate.eu/thredds/fileServer/esg_c3s-cmip6/ScenarioMIP/CNRM-CERFACS/CNRM-CM6-1/ssp370/r1i1p1f2/Omon/tos/gn/v20190219/tos_Omon_CNRM-CM6-1_ssp370_r1i1p1f2_gn_201501-210012.nc']"
      ]
     },
     "execution_count": 8,
     "metadata": {},
     "output_type": "execute_result"
    }
   ],
   "source": [
    "resp.download_urls()"
   ]
  },
  {
   "cell_type": "markdown",
   "id": "4934928c-a451-4fd0-8bdd-6c2c928a87b3",
   "metadata": {},
   "source": [
    "## Get whole file: grid gr1"
   ]
  },
  {
   "cell_type": "code",
   "execution_count": 9,
   "id": "0abc3bd8-2c68-43e6-877e-ed1fe767de46",
   "metadata": {},
   "outputs": [
    {
     "data": {
      "text/plain": [
       "True"
      ]
     },
     "execution_count": 9,
     "metadata": {},
     "output_type": "execute_result"
    }
   ],
   "source": [
    "wf = ops.Subset(\n",
    "        ops.Input(\n",
    "            'tos', ['c3s-cmip6.ScenarioMIP.CNRM-CERFACS.CNRM-CM6-1.ssp370.r1i1p1f2.Omon.tos.gr1.v20190219']\n",
    "        ),\n",
    ")\n",
    "resp = wf.orchestrate()\n",
    "resp.ok"
   ]
  },
  {
   "cell_type": "code",
   "execution_count": 10,
   "id": "10b5e4f0-6a3d-4562-8a1d-aea836c495d4",
   "metadata": {},
   "outputs": [
    {
     "data": {
      "text/plain": [
       "['https://data.mips.copernicus-climate.eu/thredds/fileServer/esg_c3s-cmip6/ScenarioMIP/CNRM-CERFACS/CNRM-CM6-1/ssp370/r1i1p1f2/Omon/tos/gr1/v20190219/tos_Omon_CNRM-CM6-1_ssp370_r1i1p1f2_gr1_201501-205512.nc']"
      ]
     },
     "execution_count": 10,
     "metadata": {},
     "output_type": "execute_result"
    }
   ],
   "source": [
    "resp.download_urls()"
   ]
  },
  {
   "cell_type": "markdown",
   "id": "e4bb3531-ee7e-436e-b1b4-1f86ae5a0a37",
   "metadata": {},
   "source": [
    "## subset with time_components: grid gn"
   ]
  },
  {
   "cell_type": "code",
   "execution_count": 11,
   "id": "753afecd-d425-4e43-a029-2f37809d9497",
   "metadata": {},
   "outputs": [
    {
     "data": {
      "text/plain": [
       "True"
      ]
     },
     "execution_count": 11,
     "metadata": {},
     "output_type": "execute_result"
    }
   ],
   "source": [
    "wf = ops.Subset(\n",
    "        ops.Input(\n",
    "            'tos', ['c3s-cmip6.ScenarioMIP.CNRM-CERFACS.CNRM-CM6-1.ssp370.r1i1p1f2.Omon.tos.gn.v20190219']\n",
    "        ),\n",
    "        time='2055/2056',\n",
    "        time_components=\"year:2055,2056\",\n",
    ")\n",
    "resp = wf.orchestrate()\n",
    "resp.ok"
   ]
  },
  {
   "cell_type": "code",
   "execution_count": 12,
   "id": "951abab0-8a66-43af-b664-845dddc3bd01",
   "metadata": {},
   "outputs": [
    {
     "data": {
      "text/plain": [
       "['http://rook4.cloud.dkrz.de:80/outputs/rook/248d1c50-735b-11ee-90bb-fa163ed6c06f/tos_Omon_CNRM-CM6-1_ssp370_r1i1p1f2_gn_20550116-20561216.nc']"
      ]
     },
     "execution_count": 12,
     "metadata": {},
     "output_type": "execute_result"
    }
   ],
   "source": [
    "resp.download_urls()"
   ]
  },
  {
   "cell_type": "markdown",
   "id": "ef1ff6f5-93f5-4521-a04f-f76558bd4596",
   "metadata": {},
   "source": [
    "## subset with time_components: grid gr1"
   ]
  },
  {
   "cell_type": "code",
   "execution_count": 13,
   "id": "fe7a3400-c5aa-400f-9bbb-0d4565049bb9",
   "metadata": {},
   "outputs": [
    {
     "data": {
      "text/plain": [
       "True"
      ]
     },
     "execution_count": 13,
     "metadata": {},
     "output_type": "execute_result"
    }
   ],
   "source": [
    "wf = ops.Subset(\n",
    "        ops.Input(\n",
    "            'tos', ['c3s-cmip6.ScenarioMIP.CNRM-CERFACS.CNRM-CM6-1.ssp370.r1i1p1f2.Omon.tos.gr1.v20190219']\n",
    "        ),\n",
    "        time='2055/2055',\n",
    "        time_components=\"year:2055\",\n",
    ")\n",
    "resp = wf.orchestrate()\n",
    "resp.ok"
   ]
  },
  {
   "cell_type": "code",
   "execution_count": 14,
   "id": "372d52c4-6f79-4cad-ad7d-1715b9233399",
   "metadata": {},
   "outputs": [
    {
     "data": {
      "text/plain": [
       "['http://rook4.cloud.dkrz.de:80/outputs/rook/26c05032-735b-11ee-aa36-fa163ed6c06f/tos_Omon_CNRM-CM6-1_ssp370_r1i1p1f2_gr1_20550116-20551216.nc']"
      ]
     },
     "execution_count": 14,
     "metadata": {},
     "output_type": "execute_result"
    }
   ],
   "source": [
    "resp.download_urls()"
   ]
  }
 ],
 "metadata": {
  "kernelspec": {
   "display_name": "Python 3 (ipykernel)",
   "language": "python",
   "name": "python3"
  },
  "language_info": {
   "codemirror_mode": {
    "name": "ipython",
    "version": 3
   },
   "file_extension": ".py",
   "mimetype": "text/x-python",
   "name": "python",
   "nbconvert_exporter": "python",
   "pygments_lexer": "ipython3",
   "version": "3.11.5"
  }
 },
 "nbformat": 4,
 "nbformat_minor": 5
}
