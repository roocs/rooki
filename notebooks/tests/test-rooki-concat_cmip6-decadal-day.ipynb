{
 "cells": [
  {
   "cell_type": "markdown",
   "metadata": {},
   "source": [
    "# Performance of concat operator on cmip6 decadal\n",
    "\n",
    "**Rooki** calls climate data operations on the **rook** processing service."
   ]
  },
  {
   "cell_type": "code",
   "execution_count": 1,
   "metadata": {},
   "outputs": [],
   "source": [
    "import os\n",
    "import time\n",
    "os.environ['ROOK_URL'] = 'http://rook.dkrz.de/wps'\n",
    "\n",
    "from rooki import operators as ops"
   ]
  },
  {
   "cell_type": "markdown",
   "metadata": {},
   "source": [
    "## Load intake catalog for cmip6 decadal"
   ]
  },
  {
   "cell_type": "code",
   "execution_count": 2,
   "metadata": {},
   "outputs": [],
   "source": [
    "import intake"
   ]
  },
  {
   "cell_type": "code",
   "execution_count": 3,
   "metadata": {},
   "outputs": [
    {
     "data": {
      "text/html": [
       "<div>\n",
       "<style scoped>\n",
       "    .dataframe tbody tr th:only-of-type {\n",
       "        vertical-align: middle;\n",
       "    }\n",
       "\n",
       "    .dataframe tbody tr th {\n",
       "        vertical-align: top;\n",
       "    }\n",
       "\n",
       "    .dataframe thead th {\n",
       "        text-align: right;\n",
       "    }\n",
       "</style>\n",
       "<table border=\"1\" class=\"dataframe\">\n",
       "  <thead>\n",
       "    <tr style=\"text-align: right;\">\n",
       "      <th></th>\n",
       "      <th>ds_id</th>\n",
       "      <th>path</th>\n",
       "      <th>size</th>\n",
       "      <th>mip_era</th>\n",
       "      <th>activity_id</th>\n",
       "      <th>institution_id</th>\n",
       "      <th>source_id</th>\n",
       "      <th>experiment_id</th>\n",
       "      <th>member_id</th>\n",
       "      <th>table_id</th>\n",
       "      <th>variable_id</th>\n",
       "      <th>grid_label</th>\n",
       "      <th>version</th>\n",
       "      <th>start_time</th>\n",
       "      <th>end_time</th>\n",
       "      <th>bbox</th>\n",
       "      <th>level</th>\n",
       "      <th>member_year</th>\n",
       "      <th>member_ensemble</th>\n",
       "      <th>prefix</th>\n",
       "    </tr>\n",
       "  </thead>\n",
       "  <tbody>\n",
       "    <tr>\n",
       "      <th>0</th>\n",
       "      <td>c3s-cmip6-decadal.DCPP.MPI-M.MPI-ESM1-2-HR.dcp...</td>\n",
       "      <td>DCPP/MPI-M/MPI-ESM1-2-HR/dcppA-hindcast/s2016-...</td>\n",
       "      <td>492479692</td>\n",
       "      <td>c3s-cmip6-decadal</td>\n",
       "      <td>DCPP</td>\n",
       "      <td>MPI-M</td>\n",
       "      <td>MPI-ESM1-2-HR</td>\n",
       "      <td>dcppA-hindcast</td>\n",
       "      <td>s2016-r8i1p1f1</td>\n",
       "      <td>day</td>\n",
       "      <td>tasmax</td>\n",
       "      <td>gn</td>\n",
       "      <td>v20210111</td>\n",
       "      <td>2016-11-01T12:00:00</td>\n",
       "      <td>2026-12-31T12:00:00</td>\n",
       "      <td>0.00, -89.28, 359.06, 89.28</td>\n",
       "      <td>2.00</td>\n",
       "      <td>s2016</td>\n",
       "      <td>r8i1p1f1</td>\n",
       "      <td>c3s-cmip6-decadal</td>\n",
       "    </tr>\n",
       "    <tr>\n",
       "      <th>1</th>\n",
       "      <td>c3s-cmip6-decadal.DCPP.MPI-M.MPI-ESM1-2-HR.dcp...</td>\n",
       "      <td>DCPP/MPI-M/MPI-ESM1-2-HR/dcppA-hindcast/s2009-...</td>\n",
       "      <td>737204109</td>\n",
       "      <td>c3s-cmip6-decadal</td>\n",
       "      <td>DCPP</td>\n",
       "      <td>MPI-M</td>\n",
       "      <td>MPI-ESM1-2-HR</td>\n",
       "      <td>dcppA-hindcast</td>\n",
       "      <td>s2009-r8i1p1f1</td>\n",
       "      <td>day</td>\n",
       "      <td>pr</td>\n",
       "      <td>gn</td>\n",
       "      <td>v20210107</td>\n",
       "      <td>2009-11-01T12:00:00</td>\n",
       "      <td>2019-12-31T12:00:00</td>\n",
       "      <td>0.00, -89.28, 359.06, 89.28</td>\n",
       "      <td>NaN</td>\n",
       "      <td>s2009</td>\n",
       "      <td>r8i1p1f1</td>\n",
       "      <td>c3s-cmip6-decadal</td>\n",
       "    </tr>\n",
       "    <tr>\n",
       "      <th>2</th>\n",
       "      <td>c3s-cmip6-decadal.DCPP.MOHC.HadGEM3-GC31-MM.dc...</td>\n",
       "      <td>DCPP/MOHC/HadGEM3-GC31-MM/dcppA-hindcast/s1987...</td>\n",
       "      <td>953384</td>\n",
       "      <td>c3s-cmip6-decadal</td>\n",
       "      <td>DCPP</td>\n",
       "      <td>MOHC</td>\n",
       "      <td>HadGEM3-GC31-MM</td>\n",
       "      <td>dcppA-hindcast</td>\n",
       "      <td>s1987-r3i1p1f2</td>\n",
       "      <td>Amon</td>\n",
       "      <td>pr</td>\n",
       "      <td>gn</td>\n",
       "      <td>v20200417</td>\n",
       "      <td>1987-11-16T00:00:00</td>\n",
       "      <td>1987-12-16T00:00:00</td>\n",
       "      <td>0.42, -89.72, 359.58, 89.72</td>\n",
       "      <td>NaN</td>\n",
       "      <td>s1987</td>\n",
       "      <td>r3i1p1f2</td>\n",
       "      <td>c3s-cmip6-decadal</td>\n",
       "    </tr>\n",
       "    <tr>\n",
       "      <th>3</th>\n",
       "      <td>c3s-cmip6-decadal.DCPP.MOHC.HadGEM3-GC31-MM.dc...</td>\n",
       "      <td>DCPP/MOHC/HadGEM3-GC31-MM/dcppA-hindcast/s1995...</td>\n",
       "      <td>603757</td>\n",
       "      <td>c3s-cmip6-decadal</td>\n",
       "      <td>DCPP</td>\n",
       "      <td>MOHC</td>\n",
       "      <td>HadGEM3-GC31-MM</td>\n",
       "      <td>dcppA-hindcast</td>\n",
       "      <td>s1995-r6i1p1f2</td>\n",
       "      <td>Amon</td>\n",
       "      <td>tas</td>\n",
       "      <td>gn</td>\n",
       "      <td>v20200417</td>\n",
       "      <td>1995-11-16T00:00:00</td>\n",
       "      <td>1995-12-16T00:00:00</td>\n",
       "      <td>0.42, -89.72, 359.58, 89.72</td>\n",
       "      <td>1.50</td>\n",
       "      <td>s1995</td>\n",
       "      <td>r6i1p1f2</td>\n",
       "      <td>c3s-cmip6-decadal</td>\n",
       "    </tr>\n",
       "    <tr>\n",
       "      <th>4</th>\n",
       "      <td>c3s-cmip6-decadal.DCPP.MOHC.HadGEM3-GC31-MM.dc...</td>\n",
       "      <td>DCPP/MOHC/HadGEM3-GC31-MM/dcppA-hindcast/s2004...</td>\n",
       "      <td>14824913</td>\n",
       "      <td>c3s-cmip6-decadal</td>\n",
       "      <td>DCPP</td>\n",
       "      <td>MOHC</td>\n",
       "      <td>HadGEM3-GC31-MM</td>\n",
       "      <td>dcppA-hindcast</td>\n",
       "      <td>s2004-r10i1p1f2</td>\n",
       "      <td>AERday</td>\n",
       "      <td>zg500</td>\n",
       "      <td>gn</td>\n",
       "      <td>v20200417</td>\n",
       "      <td>2004-11-01T12:00:00</td>\n",
       "      <td>2004-12-30T12:00:00</td>\n",
       "      <td>0.42, -89.72, 359.58, 89.72</td>\n",
       "      <td>50000.00</td>\n",
       "      <td>s2004</td>\n",
       "      <td>r10i1p1f2</td>\n",
       "      <td>c3s-cmip6-decadal</td>\n",
       "    </tr>\n",
       "  </tbody>\n",
       "</table>\n",
       "</div>"
      ],
      "text/plain": [
       "                                               ds_id   \n",
       "0  c3s-cmip6-decadal.DCPP.MPI-M.MPI-ESM1-2-HR.dcp...  \\\n",
       "1  c3s-cmip6-decadal.DCPP.MPI-M.MPI-ESM1-2-HR.dcp...   \n",
       "2  c3s-cmip6-decadal.DCPP.MOHC.HadGEM3-GC31-MM.dc...   \n",
       "3  c3s-cmip6-decadal.DCPP.MOHC.HadGEM3-GC31-MM.dc...   \n",
       "4  c3s-cmip6-decadal.DCPP.MOHC.HadGEM3-GC31-MM.dc...   \n",
       "\n",
       "                                                path       size   \n",
       "0  DCPP/MPI-M/MPI-ESM1-2-HR/dcppA-hindcast/s2016-...  492479692  \\\n",
       "1  DCPP/MPI-M/MPI-ESM1-2-HR/dcppA-hindcast/s2009-...  737204109   \n",
       "2  DCPP/MOHC/HadGEM3-GC31-MM/dcppA-hindcast/s1987...     953384   \n",
       "3  DCPP/MOHC/HadGEM3-GC31-MM/dcppA-hindcast/s1995...     603757   \n",
       "4  DCPP/MOHC/HadGEM3-GC31-MM/dcppA-hindcast/s2004...   14824913   \n",
       "\n",
       "             mip_era activity_id institution_id        source_id   \n",
       "0  c3s-cmip6-decadal        DCPP          MPI-M    MPI-ESM1-2-HR  \\\n",
       "1  c3s-cmip6-decadal        DCPP          MPI-M    MPI-ESM1-2-HR   \n",
       "2  c3s-cmip6-decadal        DCPP           MOHC  HadGEM3-GC31-MM   \n",
       "3  c3s-cmip6-decadal        DCPP           MOHC  HadGEM3-GC31-MM   \n",
       "4  c3s-cmip6-decadal        DCPP           MOHC  HadGEM3-GC31-MM   \n",
       "\n",
       "    experiment_id        member_id table_id variable_id grid_label    version   \n",
       "0  dcppA-hindcast   s2016-r8i1p1f1      day      tasmax         gn  v20210111  \\\n",
       "1  dcppA-hindcast   s2009-r8i1p1f1      day          pr         gn  v20210107   \n",
       "2  dcppA-hindcast   s1987-r3i1p1f2     Amon          pr         gn  v20200417   \n",
       "3  dcppA-hindcast   s1995-r6i1p1f2     Amon         tas         gn  v20200417   \n",
       "4  dcppA-hindcast  s2004-r10i1p1f2   AERday       zg500         gn  v20200417   \n",
       "\n",
       "            start_time             end_time                         bbox   \n",
       "0  2016-11-01T12:00:00  2026-12-31T12:00:00  0.00, -89.28, 359.06, 89.28  \\\n",
       "1  2009-11-01T12:00:00  2019-12-31T12:00:00  0.00, -89.28, 359.06, 89.28   \n",
       "2  1987-11-16T00:00:00  1987-12-16T00:00:00  0.42, -89.72, 359.58, 89.72   \n",
       "3  1995-11-16T00:00:00  1995-12-16T00:00:00  0.42, -89.72, 359.58, 89.72   \n",
       "4  2004-11-01T12:00:00  2004-12-30T12:00:00  0.42, -89.72, 359.58, 89.72   \n",
       "\n",
       "      level member_year member_ensemble             prefix  \n",
       "0      2.00       s2016        r8i1p1f1  c3s-cmip6-decadal  \n",
       "1       NaN       s2009        r8i1p1f1  c3s-cmip6-decadal  \n",
       "2       NaN       s1987        r3i1p1f2  c3s-cmip6-decadal  \n",
       "3      1.50       s1995        r6i1p1f2  c3s-cmip6-decadal  \n",
       "4  50000.00       s2004       r10i1p1f2  c3s-cmip6-decadal  "
      ]
     },
     "execution_count": 3,
     "metadata": {},
     "output_type": "execute_result"
    }
   ],
   "source": [
    "cat_url = \"https://raw.githubusercontent.com/cp4cds/c3s_34g_manifests/master/intake/catalogs/c3s.yaml\"\n",
    "\n",
    "cat = intake.open_catalog(cat_url)\n",
    "df_cmip6_decadal = cat['c3s-cmip6-decadal'].read()\n",
    "df_cmip6_decadal.head()"
   ]
  },
  {
   "cell_type": "code",
   "execution_count": 4,
   "metadata": {},
   "outputs": [
    {
     "data": {
      "text/plain": [
       "array(['c3s-cmip6-decadal.DCPP.MOHC.HadGEM3-GC31-MM.dcppA-hindcast.s1995-r6i1p1f2.day.pr.gn.v20200417',\n",
       "       'c3s-cmip6-decadal.DCPP.MOHC.HadGEM3-GC31-MM.dcppA-hindcast.s1995-r7i1p1f2.day.pr.gn.v20200417',\n",
       "       'c3s-cmip6-decadal.DCPP.MOHC.HadGEM3-GC31-MM.dcppA-hindcast.s1995-r8i1p1f2.day.pr.gn.v20200417',\n",
       "       'c3s-cmip6-decadal.DCPP.MOHC.HadGEM3-GC31-MM.dcppA-hindcast.s1995-r9i1p1f2.day.pr.gn.v20200417',\n",
       "       'c3s-cmip6-decadal.DCPP.MOHC.HadGEM3-GC31-MM.dcppA-hindcast.s1995-r10i1p1f2.day.pr.gn.v20200417',\n",
       "       'c3s-cmip6-decadal.DCPP.MOHC.HadGEM3-GC31-MM.dcppA-hindcast.s1995-r1i1p1f2.day.pr.gn.v20200417',\n",
       "       'c3s-cmip6-decadal.DCPP.MOHC.HadGEM3-GC31-MM.dcppA-hindcast.s1995-r2i1p1f2.day.pr.gn.v20200417',\n",
       "       'c3s-cmip6-decadal.DCPP.MOHC.HadGEM3-GC31-MM.dcppA-hindcast.s1995-r3i1p1f2.day.pr.gn.v20200417',\n",
       "       'c3s-cmip6-decadal.DCPP.MOHC.HadGEM3-GC31-MM.dcppA-hindcast.s1995-r4i1p1f2.day.pr.gn.v20200417',\n",
       "       'c3s-cmip6-decadal.DCPP.MOHC.HadGEM3-GC31-MM.dcppA-hindcast.s1995-r5i1p1f2.day.pr.gn.v20200417'],\n",
       "      dtype=object)"
      ]
     },
     "execution_count": 4,
     "metadata": {},
     "output_type": "execute_result"
    }
   ],
   "source": [
    "df = df_cmip6_decadal.loc[\n",
    "    (df_cmip6_decadal.variable_id==\"pr\") \n",
    "    & (df_cmip6_decadal.experiment_id==\"dcppA-hindcast\")\n",
    "    & (df_cmip6_decadal.table_id==\"day\")\n",
    "    & (df_cmip6_decadal.institution_id==\"MOHC\")\n",
    "    & (df_cmip6_decadal.member_year==\"s1995\")\n",
    "]\n",
    "df.ds_id.unique()"
   ]
  },
  {
   "cell_type": "markdown",
   "metadata": {},
   "source": [
    "## Run concat\n",
    "\n",
    "https://docs.xarray.dev/en/stable/generated/xarray.concat.html"
   ]
  },
  {
   "cell_type": "code",
   "execution_count": 5,
   "metadata": {},
   "outputs": [
    {
     "name": "stdout",
     "output_type": "stream",
     "text": [
      "duration: 312 secs\n"
     ]
    },
    {
     "data": {
      "text/plain": [
       "True"
      ]
     },
     "execution_count": 5,
     "metadata": {},
     "output_type": "execute_result"
    }
   ],
   "source": [
    "start = time.time()\n",
    "\n",
    "wf = ops.Concat(\n",
    "        ops.Input(\n",
    "                'ds', [\n",
    "                    'c3s-cmip6-decadal.DCPP.MOHC.HadGEM3-GC31-MM.dcppA-hindcast.s1995-r1i1p1f2.day.pr.gn.v20200417',\n",
    "                    'c3s-cmip6-decadal.DCPP.MOHC.HadGEM3-GC31-MM.dcppA-hindcast.s1995-r2i1p1f2.day.pr.gn.v20200417'\n",
    "                ]\n",
    "        ),\n",
    "        dims=\"realization\"\n",
    ")\n",
    "\n",
    "# optional average\n",
    "wf = ops.Average(wf, dims=\"realization\")\n",
    "\n",
    "# optional subset\n",
    "wf = ops.Subset(wf, time=\"1995/1995\")\n",
    "\n",
    "resp = wf.orchestrate()\n",
    "\n",
    "end = time.time()\n",
    "print(f\"duration: {int(end - start)} secs\")\n",
    "\n",
    "resp.ok"
   ]
  },
  {
   "cell_type": "markdown",
   "metadata": {},
   "source": [
    "**open with xarray**"
   ]
  },
  {
   "cell_type": "code",
   "execution_count": 6,
   "metadata": {},
   "outputs": [
    {
     "data": {
      "text/plain": [
       "32.765777587890625"
      ]
     },
     "execution_count": 6,
     "metadata": {},
     "output_type": "execute_result"
    }
   ],
   "source": [
    "resp.size_in_mb"
   ]
  },
  {
   "cell_type": "code",
   "execution_count": 7,
   "metadata": {},
   "outputs": [
    {
     "data": {
      "text/plain": [
       "['http://rook4.cloud.dkrz.de:80/outputs/rook/7f8782de-05ed-11ee-8696-fa163ed6c06f/pr_day_HadGEM3-GC31-MM_dcppA-hindcast_r1i1p1f2_gn_19951101-19951230.nc']"
      ]
     },
     "execution_count": 7,
     "metadata": {},
     "output_type": "execute_result"
    }
   ],
   "source": [
    "resp.download_urls()"
   ]
  },
  {
   "cell_type": "code",
   "execution_count": 8,
   "metadata": {},
   "outputs": [],
   "source": [
    "# dsets = resp.datasets()"
   ]
  },
  {
   "cell_type": "code",
   "execution_count": 9,
   "metadata": {},
   "outputs": [],
   "source": [
    "#ds = dsets[0]\n",
    "#ds"
   ]
  },
  {
   "cell_type": "markdown",
   "metadata": {},
   "source": [
    "**provenance**"
   ]
  },
  {
   "cell_type": "code",
   "execution_count": 10,
   "metadata": {},
   "outputs": [
    {
     "data": {
      "text/plain": [
       "'http://rook4.cloud.dkrz.de:80/outputs/rook/c6e4437a-05ec-11ee-9d72-fa163ed6c06f/provenance.png'"
      ]
     },
     "execution_count": 10,
     "metadata": {},
     "output_type": "execute_result"
    }
   ],
   "source": [
    "prov_plot_url = resp.provenance_image()\n",
    "prov_plot_url"
   ]
  },
  {
   "cell_type": "code",
   "execution_count": 11,
   "metadata": {},
   "outputs": [],
   "source": [
    "#from IPython.display import Image\n",
    "#Image(prov_plot_url)"
   ]
  },
  {
   "cell_type": "code",
   "execution_count": 12,
   "metadata": {},
   "outputs": [
    {
     "data": {
      "text/plain": [
       "'http://rook4.cloud.dkrz.de:80/outputs/rook/c6e4437a-05ec-11ee-9d72-fa163ed6c06f/provenance.json'"
      ]
     },
     "execution_count": 12,
     "metadata": {},
     "output_type": "execute_result"
    }
   ],
   "source": [
    "resp.provenance()"
   ]
  }
 ],
 "metadata": {
  "kernelspec": {
   "display_name": "Python 3 (ipykernel)",
   "language": "python",
   "name": "python3"
  },
  "language_info": {
   "codemirror_mode": {
    "name": "ipython",
    "version": 3
   },
   "file_extension": ".py",
   "mimetype": "text/x-python",
   "name": "python",
   "nbconvert_exporter": "python",
   "pygments_lexer": "ipython3",
   "version": "3.11.3"
  }
 },
 "nbformat": 4,
 "nbformat_minor": 4
}
