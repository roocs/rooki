{
 "cells": [
  {
   "cell_type": "markdown",
   "id": "vietnamese-spare",
   "metadata": {},
   "source": [
    "# Test: collected errors\n",
    "\n",
    "* Project: c3s-cmip6\n",
    "* Site: DKRZ\n",
    "* From 2021-03-23 11:12:21 to 2021-03-23 14:03:07\n",
    "* rook v0.4.2, daops=0.5.0, clisops=0.6.2"
   ]
  },
  {
   "cell_type": "code",
   "execution_count": null,
   "id": "peripheral-ebony",
   "metadata": {},
   "outputs": [],
   "source": [
    "import os\n",
    "os.environ['ROOK_URL'] = 'http://rook.dkrz.de/wps'\n",
    "\n",
    "from rooki import operators as ops"
   ]
  },
  {
   "cell_type": "markdown",
   "id": "polyphonic-alias",
   "metadata": {},
   "source": [
    "## Error 1\n",
    "\n",
    "ValueError: invalid day number provided in cftime.Datetime360Day(2050, 12, 31, 0, 0, 0, 0)"
   ]
  },
  {
   "cell_type": "code",
   "execution_count": null,
   "id": "bronze-flour",
   "metadata": {},
   "outputs": [],
   "source": [
    "wf = ops.Subset(\n",
    "        ops.Input(\n",
    "            'tas', ['c3s-cmip6.ScenarioMIP.NIMS-KMA.KACE-1-0-G.ssp585.r1i1p1f1.Amon.tas.gr.v20190920']\n",
    "        ),\n",
    "        time=\"2021-01-01/2050-12-31\",\n",
    "        area=\"-10,30,35,70\"\n",
    ")\n",
    "resp = wf.orchestrate()\n",
    "resp.status"
   ]
  },
  {
   "cell_type": "markdown",
   "id": "nutritional-wallace",
   "metadata": {},
   "source": [
    "## Error 2\n",
    "\n",
    "ValueError: invalid day number provided in cftime.Datetime360Day(2050, 12, 31, 0, 0, 0, 0)"
   ]
  },
  {
   "cell_type": "code",
   "execution_count": null,
   "id": "simplified-warner",
   "metadata": {},
   "outputs": [],
   "source": [
    "wf = ops.Subset(\n",
    "        ops.Input(\n",
    "            'tas', ['c3s-cmip6.ScenarioMIP.MOHC.HadGEM3-GC31-MM.ssp585.r1i1p1f3.Amon.tas.gn.v20200515']\n",
    "        ),\n",
    "        time=\"2021-01-01/2050-12-31\",\n",
    "        area=\"-10,30,35,70\"\n",
    ")\n",
    "resp = wf.orchestrate()\n",
    "resp.status"
   ]
  },
  {
   "cell_type": "markdown",
   "id": "needed-sunset",
   "metadata": {},
   "source": [
    "## Error 3\n",
    "\n",
    "```\n",
    "  File \"/usr/local/anaconda/envs/rook/lib/python3.7/site-packages/clisops/core/subset.py\", line 242, in func_checker\n",
    "    f\"Input longitude bounds ({kwargs[lon]}) cross the 0 degree meridian but\"\n",
    "NotImplementedError: Input longitude bounds ([ 160. -100.]) cross the 0 degree meridian but dataset longitudes are all positive.\n",
    "    \n",
    "\n",
    " File \"/usr/local/anaconda/envs/rook/lib/python3.7/site-packages/clisops/ops/subset.py\", line 66, in _calculate\n",
    "    f\"The input longitude bounds {self.params.get('lon_bnds')} are not within the longitude bounds \"\n",
    "Exception: The input longitude bounds (160.0, -100.0) are not within the longitude bounds of this dataset and rolling could not be completed successfully. Please re-run your request with longitudes within the bounds of the dataset.\n",
    " \n",
    "```"
   ]
  },
  {
   "cell_type": "code",
   "execution_count": null,
   "id": "careful-drink",
   "metadata": {},
   "outputs": [],
   "source": [
    "wf = ops.Subset(\n",
    "        ops.Input(\n",
    "            'snd', ['c3s-cmip6.ScenarioMIP.NOAA-GFDL.GFDL-ESM4.ssp245.r1i1p1f1.LImon.snd.gr1.v20180701']\n",
    "        ),\n",
    "        time=\"2080-01-01/2100-12-31\",\n",
    "        area=\"160,45,-100,90\"\n",
    ")\n",
    "resp = wf.orchestrate()\n",
    "resp.status"
   ]
  },
  {
   "cell_type": "markdown",
   "id": "played-penetration",
   "metadata": {},
   "source": [
    "## Error 4\n",
    "\n",
    "Process error: The input longitude bounds 160.0, -100.0 are no\n",
    "t within the longitude bounds of this dataset and rolling could not be completed successfully. Please re-run your request with longitudes within the bounds of the dataset."
   ]
  },
  {
   "cell_type": "markdown",
   "id": "impaired-elizabeth",
   "metadata": {},
   "source": [
    "## Error 5\n",
    "\n",
    "Process error: float divmod "
   ]
  },
  {
   "cell_type": "markdown",
   "id": "pointed-vintage",
   "metadata": {},
   "source": [
    "## Error 6\n",
    "\n",
    "Process error: invalid day number provided in cftime.Datetime3\n",
    "60Day 2100, 12, 31, 0, 0, 0, 0   "
   ]
  },
  {
   "cell_type": "markdown",
   "id": "incorporated-stream",
   "metadata": {},
   "source": [
    "## Error 7\n",
    "\n",
    "Process error: Unable to parse the time values entered  "
   ]
  },
  {
   "cell_type": "markdown",
   "id": "exposed-board",
   "metadata": {},
   "source": [
    "## Error 8\n",
    "\n",
    "Process error: Start date 2020-02-01T12:00:00 is after end dat\n",
    "e 2020-01-30T12:00:00 "
   ]
  }
 ],
 "metadata": {
  "kernelspec": {
   "display_name": "Python 3",
   "language": "python",
   "name": "python3"
  },
  "language_info": {
   "codemirror_mode": {
    "name": "ipython",
    "version": 3
   },
   "file_extension": ".py",
   "mimetype": "text/x-python",
   "name": "python",
   "nbconvert_exporter": "python",
   "pygments_lexer": "ipython3",
   "version": "3.9.2"
  }
 },
 "nbformat": 4,
 "nbformat_minor": 5
}
