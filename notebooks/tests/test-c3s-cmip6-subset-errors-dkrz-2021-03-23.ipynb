{
 "cells": [
  {
   "cell_type": "markdown",
   "id": "contrary-synthetic",
   "metadata": {},
   "source": [
    "# Test: collected errors\n",
    "\n",
    "* Project: c3s-cmip6\n",
    "* Site: DKRZ\n",
    "* From 2021-03-23 to 2021-03-25\n",
    "* rook v0.4.2, daops=0.5.0, clisops=0.6.2"
   ]
  },
  {
   "cell_type": "code",
   "execution_count": null,
   "id": "respective-crawford",
   "metadata": {},
   "outputs": [],
   "source": [
    "import os\n",
    "# os.environ['ROOK_URL'] = 'http://rook3.cloud.dkrz.de/wps'\n",
    "os.environ['ROOK_URL'] = 'http://rook.dkrz.de/wps'\n",
    "\n",
    "from rooki import operators as ops"
   ]
  },
  {
   "cell_type": "markdown",
   "id": "upper-innocent",
   "metadata": {},
   "source": [
    "## Day 4, 26.03\n",
    "\n",
    "DKRZ: 50 requests, 26 failures\n",
    "\n",
    "Duplicate errors:\n",
    "* Process error: invalid day number provided in cftime.Datetime3\n",
    "60Day 2300, 12, 31, 0, 0, 0, 0\n",
    "* Process error: float divmod  "
   ]
  },
  {
   "cell_type": "markdown",
   "id": "orange-jungle",
   "metadata": {},
   "source": [
    "### Error 41\n",
    "\n",
    "Process error: list index out of range\n",
    "\n",
    "```\n",
    "  File \"/usr/local/anaconda/envs/rook/lib/python3.7/site-packages/daops/utils/consolidate.py\", line 42, in consolidate\n",
    "    ds = open_xr_dataset(dset)\n",
    "  File \"/usr/local/anaconda/envs/rook/lib/python3.7/site-packages/roocs_utils/xarray_utils/xarray_utils.py\", line 33, in open_xr_dataset\n",
    "    return xr.open_dataset(dset[0], use_cftime=True)\n",
    "IndexError: list index out of range\n",
    "```"
   ]
  },
  {
   "cell_type": "code",
   "execution_count": null,
   "id": "hired-shanghai",
   "metadata": {},
   "outputs": [],
   "source": [
    "wf = ops.Subset(\n",
    "        ops.Input(\n",
    "            'tas', ['c3s-cmip6.ScenarioMIP.NIMS-KMA.KACE-1-0-G.ssp245.r1i1p1f1.Amon.tas.gr.v20191217']\n",
    "        ),\n",
    "        time=\"2021-01-01/2100-12-31\",\n",
    "        area=\"-10,30,35,70\"\n",
    ")\n",
    "resp = wf.orchestrate()\n",
    "resp.status"
   ]
  },
  {
   "cell_type": "markdown",
   "id": "ambient-resident",
   "metadata": {},
   "source": [
    "## Day 3, 25.03\n",
    "\n",
    "DKRZ: 53 requests, 9 failures\n",
    "\n",
    "Duplicate erros:\n",
    "* invalid day number provided in cftime.Datetime360Day 2050, 12, 31, 0, 0, 0, 0\n",
    "* float divmod "
   ]
  },
  {
   "cell_type": "markdown",
   "id": "sharp-option",
   "metadata": {},
   "source": [
    "## Day 2, 24.03\n",
    "\n",
    "DKRZ: 218 requests, 8 failures, 1 rejected"
   ]
  },
  {
   "cell_type": "markdown",
   "id": "understood-wrapping",
   "metadata": {},
   "source": [
    "### Error 21\n",
    "\n",
    "Process error: Cannot apply_along_axis when any iteration dime\n",
    "nsions are 0  "
   ]
  },
  {
   "cell_type": "code",
   "execution_count": null,
   "id": "excessive-annotation",
   "metadata": {},
   "outputs": [],
   "source": [
    "wf = ops.Subset(\n",
    "        ops.Input(\n",
    "            'tos', ['c3s-cmip6.ScenarioMIP.CNRM-CERFACS.CNRM-CM6-1.ssp245.r1i1p1f2.Omon.tos.gn.v20190219']\n",
    "        ),\n",
    "        # time=\"2021-01-01/2050-12-31\",\n",
    "        area=\"1,40,2,4\"\n",
    ")\n",
    "resp = wf.orchestrate()\n",
    "resp.status"
   ]
  },
  {
   "cell_type": "markdown",
   "id": "painful-conviction",
   "metadata": {},
   "source": [
    "### Error 22\n",
    "\n",
    "Process error: float divmod"
   ]
  },
  {
   "cell_type": "code",
   "execution_count": null,
   "id": "dedicated-maryland",
   "metadata": {},
   "outputs": [],
   "source": [
    "wf = ops.Subset(\n",
    "        ops.Input(\n",
    "            'hur', ['c3s-cmip6.CMIP.BCC.BCC-ESM1.historical.r1i1p1f1.Amon.hur.gn.v20181217']\n",
    "        ),\n",
    "        # time=\"2021-01-01/2050-12-31\",\n",
    "        area=\"0,0,0.01,0.01\",\n",
    "        level=\"85000/85000\"\n",
    ")\n",
    "resp = wf.orchestrate()\n",
    "resp.status"
   ]
  },
  {
   "cell_type": "markdown",
   "id": "labeled-confidentiality",
   "metadata": {},
   "source": [
    "### Error 23\n",
    "\n",
    "Request rejected due to exception\n",
    "\n",
    "Probably this one:\n",
    "https://github.com/roocs/rook/issues/161"
   ]
  },
  {
   "cell_type": "markdown",
   "id": "working-bangladesh",
   "metadata": {},
   "source": [
    "## Day 1, 23.03\n",
    "\n",
    "DKRZ: 147 requests, 11 failures"
   ]
  },
  {
   "cell_type": "markdown",
   "id": "controversial-lithuania",
   "metadata": {},
   "source": [
    "### Error 11\n",
    "\n",
    "ValueError: invalid day number provided in cftime.Datetime360Day(2050, 12, 31, 0, 0, 0, 0)"
   ]
  },
  {
   "cell_type": "code",
   "execution_count": null,
   "id": "material-madness",
   "metadata": {},
   "outputs": [],
   "source": [
    "wf = ops.Subset(\n",
    "        ops.Input(\n",
    "            'tas', ['c3s-cmip6.ScenarioMIP.NIMS-KMA.KACE-1-0-G.ssp585.r1i1p1f1.Amon.tas.gr.v20190920']\n",
    "        ),\n",
    "        time=\"2021-01-01/2050-12-31\",\n",
    "        area=\"-10,30,35,70\"\n",
    ")\n",
    "resp = wf.orchestrate()\n",
    "resp.status"
   ]
  },
  {
   "cell_type": "markdown",
   "id": "italic-edwards",
   "metadata": {},
   "source": [
    "### Error 12\n",
    "\n",
    "ValueError: invalid day number provided in cftime.Datetime360Day(2050, 12, 31, 0, 0, 0, 0)"
   ]
  },
  {
   "cell_type": "code",
   "execution_count": null,
   "id": "environmental-omaha",
   "metadata": {},
   "outputs": [],
   "source": [
    "wf = ops.Subset(\n",
    "        ops.Input(\n",
    "            'tas', ['c3s-cmip6.ScenarioMIP.MOHC.HadGEM3-GC31-MM.ssp585.r1i1p1f3.Amon.tas.gn.v20200515']\n",
    "        ),\n",
    "        time=\"2021-01-01/2050-12-31\",\n",
    "        area=\"-10,30,35,70\"\n",
    ")\n",
    "resp = wf.orchestrate()\n",
    "resp.status"
   ]
  },
  {
   "cell_type": "markdown",
   "id": "exterior-center",
   "metadata": {},
   "source": [
    "### Error 13\n",
    "\n",
    "```\n",
    "  File \"/usr/local/anaconda/envs/rook/lib/python3.7/site-packages/clisops/core/subset.py\", line 242, in func_checker\n",
    "    f\"Input longitude bounds ({kwargs[lon]}) cross the 0 degree meridian but\"\n",
    "NotImplementedError: Input longitude bounds ([ 160. -100.]) cross the 0 degree meridian but dataset longitudes are all positive.\n",
    "    \n",
    "\n",
    " File \"/usr/local/anaconda/envs/rook/lib/python3.7/site-packages/clisops/ops/subset.py\", line 66, in _calculate\n",
    "    f\"The input longitude bounds {self.params.get('lon_bnds')} are not within the longitude bounds \"\n",
    "Exception: The input longitude bounds (160.0, -100.0) are not within the longitude bounds of this dataset and rolling could not be completed successfully. Please re-run your request with longitudes within the bounds of the dataset.\n",
    " \n",
    "```"
   ]
  },
  {
   "cell_type": "code",
   "execution_count": null,
   "id": "demographic-mother",
   "metadata": {},
   "outputs": [],
   "source": [
    "wf = ops.Subset(\n",
    "        ops.Input(\n",
    "            'snd', ['c3s-cmip6.ScenarioMIP.NOAA-GFDL.GFDL-ESM4.ssp245.r1i1p1f1.LImon.snd.gr1.v20180701']\n",
    "        ),\n",
    "        time=\"2080-01-01/2100-12-31\",\n",
    "        area=\"160,45,-100,90\"\n",
    ")\n",
    "resp = wf.orchestrate()\n",
    "resp.status"
   ]
  },
  {
   "cell_type": "markdown",
   "id": "animal-custom",
   "metadata": {},
   "source": [
    "### Error 14\n",
    "\n",
    "Process error: The input longitude bounds 160.0, -100.0 are no\n",
    "t within the longitude bounds of this dataset and rolling could not be completed successfully. Please re-run your request with longitudes within the bounds of the dataset."
   ]
  },
  {
   "cell_type": "markdown",
   "id": "presidential-pillow",
   "metadata": {},
   "source": [
    "### Error 15\n",
    "\n",
    "Process error: float divmod "
   ]
  },
  {
   "cell_type": "markdown",
   "id": "deadly-malpractice",
   "metadata": {},
   "source": [
    "### Error 16\n",
    "\n",
    "Process error: invalid day number provided in cftime.Datetime3\n",
    "60Day 2100, 12, 31, 0, 0, 0, 0   "
   ]
  },
  {
   "cell_type": "markdown",
   "id": "aquatic-sociology",
   "metadata": {},
   "source": [
    "### Error 17\n",
    "\n",
    "Process error: Unable to parse the time values entered  "
   ]
  },
  {
   "cell_type": "markdown",
   "id": "dominant-census",
   "metadata": {},
   "source": [
    "### Error 18\n",
    "\n",
    "Process error: Start date 2020-02-01T12:00:00 is after end dat\n",
    "e 2020-01-30T12:00:00 "
   ]
  }
 ],
 "metadata": {
  "kernelspec": {
   "display_name": "Python 3",
   "language": "python",
   "name": "python3"
  },
  "language_info": {
   "codemirror_mode": {
    "name": "ipython",
    "version": 3
   },
   "file_extension": ".py",
   "mimetype": "text/x-python",
   "name": "python",
   "nbconvert_exporter": "python",
   "pygments_lexer": "ipython3",
   "version": "3.9.2"
  }
 },
 "nbformat": 4,
 "nbformat_minor": 5
}
