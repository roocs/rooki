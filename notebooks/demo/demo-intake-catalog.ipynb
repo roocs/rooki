{
 "cells": [
  {
   "cell_type": "markdown",
   "id": "center-vision",
   "metadata": {},
   "source": [
    "# Demo for using C3S intake catalog\n",
    "\n",
    "Intake Example:\n",
    "https://github.com/intake/intake-examples/blob/master/tutorial/data_scientist.ipynb\n"
   ]
  },
  {
   "cell_type": "code",
   "execution_count": null,
   "id": "demographic-regulation",
   "metadata": {},
   "outputs": [],
   "source": [
    "import intake"
   ]
  },
  {
   "cell_type": "code",
   "execution_count": null,
   "id": "textile-fortune",
   "metadata": {},
   "outputs": [],
   "source": [
    "# filter catalog\n",
    "def filter_by_time(df, collection, time=None):\n",
    "    # a common search we do in rook\n",
    "    start = end = None\n",
    "    if time:\n",
    "        if \"/\" in time:\n",
    "            start, end = time.split(\"/\")\n",
    "            start = start.strip()\n",
    "            end = end.strip()\n",
    "        else:\n",
    "            start = time.strip()\n",
    "    \n",
    "    start = start or \"1800-01-01\"\n",
    "    end = end or \"2500-12-31\"\n",
    "    \n",
    "    sdf = df.fillna({'start_time': '1000-01-01T12:00:00', 'end_time': '3000-12-31T12:00:00'})\n",
    "\n",
    "    result = sdf.loc[(sdf.ds_id == collection) & (sdf.end_time >= start) & (sdf.start_time <= end)]\n",
    "    return list(result.path.sort_values().to_dict().values())\n",
    "    "
   ]
  },
  {
   "cell_type": "markdown",
   "id": "fewer-robert",
   "metadata": {},
   "source": [
    "## Open remote catalog"
   ]
  },
  {
   "cell_type": "code",
   "execution_count": null,
   "id": "becoming-theater",
   "metadata": {},
   "outputs": [],
   "source": [
    "cat_url = \"https://raw.githubusercontent.com/cp4cds/c3s_34g_manifests/master/intake/catalogs/c3s.yaml\"\n",
    "# cat_url = \"https://github.com/cehbrecht/c3s_34g_manifests/raw/fix-intake-catalog/intake/catalogs/c3s.yaml\"\n",
    "cat = intake.open_catalog(cat_url)\n",
    "list(cat)"
   ]
  },
  {
   "cell_type": "markdown",
   "id": "forced-article",
   "metadata": {},
   "source": [
    "## Load catalog for c3s-cmip6\n",
    "Catalogs will be cached locally in `~/.intake/cache`.\n",
    "\n",
    "See: https://intake.readthedocs.io/en/latest/catalog.html?highlight=simplecache#caching-source-files-locally"
   ]
  },
  {
   "cell_type": "code",
   "execution_count": null,
   "id": "dc65a830-2602-4afb-84dd-74c5130db310",
   "metadata": {},
   "outputs": [],
   "source": [
    "print(cat['c3s-cmip6'])"
   ]
  },
  {
   "cell_type": "code",
   "execution_count": null,
   "id": "ceramic-today",
   "metadata": {},
   "outputs": [],
   "source": [
    "df_cmip6 = cat['c3s-cmip6'].read()\n",
    "df_cmip6"
   ]
  },
  {
   "cell_type": "markdown",
   "id": "naughty-timothy",
   "metadata": {},
   "source": [
    "### Filter dataset dataset by time"
   ]
  },
  {
   "cell_type": "code",
   "execution_count": null,
   "id": "quality-strand",
   "metadata": {},
   "outputs": [],
   "source": [
    "result = filter_by_time(\n",
    "    df_cmip6, \n",
    "    collection=\"c3s-cmip6.CMIP.SNU.SAM0-UNICON.historical.r1i1p1f1.day.pr.gn.v20190323\",\n",
    "    time=\"2000-01-01/2001-12-31\")\n",
    "result"
   ]
  },
  {
   "cell_type": "markdown",
   "id": "architectural-suspension",
   "metadata": {},
   "source": [
    "### Search dataset ..."
   ]
  },
  {
   "cell_type": "code",
   "execution_count": null,
   "id": "important-algebra",
   "metadata": {},
   "outputs": [],
   "source": [
    "df = df_cmip6.loc[\n",
    "    (df_cmip6.variable_id==\"tas\") \n",
    "    & (df_cmip6.experiment_id==\"historical\")\n",
    "    & (df_cmip6.table_id==\"day\")\n",
    "    & (df_cmip6.member_id==\"r1i1p1f1\")\n",
    "    & (df_cmip6.institution_id==\"MIROC\")\n",
    "]\n",
    "df.head()"
   ]
  },
  {
   "cell_type": "code",
   "execution_count": null,
   "id": "maritime-association",
   "metadata": {},
   "outputs": [],
   "source": [
    "df.ds_id.unique()"
   ]
  },
  {
   "cell_type": "markdown",
   "id": "159209e3-bb6d-4280-8c44-240de51d28bf",
   "metadata": {},
   "source": [
    "## Load Catalog for C3S-CORDEX"
   ]
  },
  {
   "cell_type": "code",
   "execution_count": null,
   "id": "b8c69d80-3e2c-4892-9707-8882ed4d1aaa",
   "metadata": {},
   "outputs": [],
   "source": [
    "print(cat['c3s-cordex'])"
   ]
  },
  {
   "cell_type": "code",
   "execution_count": null,
   "id": "d04937d7-744b-45db-876a-ae487751b0ab",
   "metadata": {},
   "outputs": [],
   "source": [
    "df_cordex = cat['c3s-cordex'].read()\n",
    "df_cordex"
   ]
  },
  {
   "cell_type": "code",
   "execution_count": null,
   "id": "46ec77bb-ce85-4b52-96bb-3e5bb81dabf6",
   "metadata": {},
   "outputs": [],
   "source": [
    "df = df_cordex.loc[\n",
    "    (df_cordex.variable==\"tas\") \n",
    "    & (df_cordex.experiment==\"rcp85\")\n",
    "    & (df_cordex.domain==\"EUR-11\")\n",
    "    & (df_cordex.time_frequency==\"mon\")\n",
    "    & (df_cordex.driving_model==\"MOHC-HadGEM2-ES\")\n",
    "    & (df_cordex.ensemble==\"r1i1p1\")\n",
    "]\n",
    "df.head()"
   ]
  },
  {
   "cell_type": "code",
   "execution_count": null,
   "id": "8f5fb385-f19b-4263-8b6a-ba71316307e8",
   "metadata": {},
   "outputs": [],
   "source": [
    "collection = df.ds_id.unique()[0]\n",
    "collection"
   ]
  },
  {
   "cell_type": "code",
   "execution_count": null,
   "id": "86e9b6df-777d-44a8-9a17-3326f4821651",
   "metadata": {},
   "outputs": [],
   "source": [
    "result = filter_by_time(\n",
    "    df_cordex, \n",
    "    collection=collection,\n",
    "    time=\"2006-01-01/2006-12-31\")\n",
    "result"
   ]
  },
  {
   "cell_type": "markdown",
   "id": "b706e525-4a39-4eaf-b3ed-a3a86ffba534",
   "metadata": {},
   "source": [
    "## Load Catalog for C3S-CMIP5"
   ]
  },
  {
   "cell_type": "code",
   "execution_count": null,
   "id": "8d339ff3-9d95-414d-8e97-638e2d03fadb",
   "metadata": {},
   "outputs": [],
   "source": [
    "print(cat['c3s-cmip5'])"
   ]
  },
  {
   "cell_type": "code",
   "execution_count": null,
   "id": "34858887-9592-4e73-8cb6-30e0bed63671",
   "metadata": {},
   "outputs": [],
   "source": [
    "df_cmip5 = cat['c3s-cmip5'].read()\n",
    "df_cmip5"
   ]
  },
  {
   "cell_type": "code",
   "execution_count": null,
   "id": "b8224e1c-fb84-4c3d-b267-feb26cefcd97",
   "metadata": {},
   "outputs": [],
   "source": [
    "df = df_cmip5.loc[\n",
    "    (df_cmip5.variable==\"tas\") \n",
    "    & (df_cmip5.experiment==\"rcp85\")\n",
    "    & (df_cmip5.time_frequency==\"mon\")\n",
    "    & (df_cmip5.model==\"bcc-csm1-1-m\")\n",
    "    & (df_cmip5.ensemble==\"r1i1p1\")\n",
    "]\n",
    "df.head()"
   ]
  },
  {
   "cell_type": "code",
   "execution_count": null,
   "id": "85441254-938b-40e2-aa3b-9b86544275ee",
   "metadata": {},
   "outputs": [],
   "source": [
    "collection = df.ds_id.unique()[0]\n",
    "collection"
   ]
  },
  {
   "cell_type": "code",
   "execution_count": null,
   "id": "97971f9f-7cb4-4dc6-8c1d-a33637c095e5",
   "metadata": {},
   "outputs": [],
   "source": [
    "result = filter_by_time(\n",
    "    df_cmip5, \n",
    "    collection=collection,\n",
    "    time=\"2006-01-01/2006-12-31\")\n",
    "result"
   ]
  }
 ],
 "metadata": {
  "kernelspec": {
   "display_name": "Python 3 (ipykernel)",
   "language": "python",
   "name": "python3"
  },
  "language_info": {
   "codemirror_mode": {
    "name": "ipython",
    "version": 3
   },
   "file_extension": ".py",
   "mimetype": "text/x-python",
   "name": "python",
   "nbconvert_exporter": "python",
   "pygments_lexer": "ipython3",
   "version": "3.10.4"
  }
 },
 "nbformat": 4,
 "nbformat_minor": 5
}
