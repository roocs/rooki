{
 "cells": [
  {
   "cell_type": "markdown",
   "metadata": {},
   "source": [
    "# Use HTTP requests for WPS rook\n",
    "\n",
    "* rook wps: https://github.com/roocs/rook\n",
    "* wps documentation: http://geoprocessing.info/wpsdoc/\n"
   ]
  },
  {
   "cell_type": "code",
   "execution_count": 1,
   "metadata": {},
   "outputs": [],
   "source": [
    "import os\n",
    "import requests"
   ]
  },
  {
   "cell_type": "code",
   "execution_count": 2,
   "metadata": {},
   "outputs": [],
   "source": [
    "url = os.environ.get('ROOK_URL', 'http://localhost:5000/wps')"
   ]
  },
  {
   "cell_type": "markdown",
   "metadata": {},
   "source": [
    "## GetCapabilities"
   ]
  },
  {
   "cell_type": "code",
   "execution_count": 3,
   "metadata": {},
   "outputs": [
    {
     "data": {
      "text/plain": [
       "'http://localhost:5000/wps?service=WPS&request=GetCapabilities'"
      ]
     },
     "execution_count": 3,
     "metadata": {},
     "output_type": "execute_result"
    }
   ],
   "source": [
    "req_url = f\"{url}?service=WPS&request=GetCapabilities\"\n",
    "req_url"
   ]
  },
  {
   "cell_type": "code",
   "execution_count": 4,
   "metadata": {},
   "outputs": [
    {
     "data": {
      "text/plain": [
       "True"
      ]
     },
     "execution_count": 4,
     "metadata": {},
     "output_type": "execute_result"
    }
   ],
   "source": [
    "resp = requests.get(req_url)\n",
    "resp.ok"
   ]
  },
  {
   "cell_type": "code",
   "execution_count": 5,
   "metadata": {},
   "outputs": [
    {
     "name": "stdout",
     "output_type": "stream",
     "text": [
      "<?xml version=\"1.0\" encoding=\"UTF-8\"?>\n",
      "<!-- PyWPS 4.2.9 -->\n",
      "<wps:Capabilities service=\"WPS\" version=\"1.0.0\" xml:lang=\"en-US\" xmlns:xlink=\"http://www.w3.org/1999/xlink\" xmlns:wps=\"http://www.opengis.net/wps/1.0.0\" xmlns:ows=\"http://www.opengis.net/ows/1.1\" xmlns:xsi=\"http://www.w3.org/2001/XMLSchema-instance\" xsi:schemaLocation=\"http://www.opengis.net/wps/1.0.0 ../wpsGetCapabilities_response.xsd\" updateSequence=\"1\">\n",
      "    <ows:ServiceIdentification>\n",
      "        <ows:Title>rook</ows:Title>\n",
      "        <ows:Abstract>A WPS service for roocs.</ows:Abstract>\n",
      "        <ows:Keywords>\n",
      "        <ows:Keyword>PyWPS</ows:Keyword>\n",
      "        <ows:Keyword> WPS</ows:Keyword>\n",
      "        <ows:Keyword> OGC</ows:Keyword>\n",
      "        <ows:Keyword> processing</ows:Keyword>\n",
      "        <ows:Keyword> birdhouse</ows:Keyword>\n",
      "        <ows:Keyword> roocs</ows:Keyword>\n",
      "        <ows:Keyword> demo</ows:Keyword>\n",
      "        <ows:Keyword> cp4cds</ows:Keyword>\n",
      "        <ows:Keyword> copernicus</ows:Keyword>\n",
      "        <ows:Keyword> ecmwf</ows:Keyword>\n",
      "            <ows:Type codeSpace=\"ISOTC211/19115\">theme</ows:Type>\n",
      "        </ows:Keywords>\n",
      "        <ows:ServiceType>WPS</ows:ServiceType>\n",
      "        <ows:ServiceTypeVersion>1.0.0</ows:ServiceTypeVersion>\n",
      "        <ows:ServiceTypeVersion>2.0.0</ows:ServiceTypeVersion>\n",
      "        <ows:Fees>NONE</ows:Fees>\n",
      "        <ows:AccessConstraints>\n",
      "        NONE\n",
      "        </ows:AccessConstraints>\n",
      "    </ows:ServiceIdentification>\n",
      "    <ows:ServiceProvider>\n",
      "        <ows:ProviderName>rook</ows:ProviderName>\n",
      "        <ows:ProviderSite xlink:href=\"http://rook.readthedocs.org/en/latest/\"/>\n",
      "        <ows:ServiceContact>\n",
      "            <ows:IndividualName>Lastname, Firstname</ows:IndividualName>\n",
      "            <ows:PositionName>Position Title</ows:PositionName>\n",
      "            <ows:ContactInfo>\n",
      "                <ows:Phone>\n",
      "                    <ows:Voice>+xx-xxx-xxx-xxxx</ows:Voice>\n",
      "                    <ows:Facsimile></ows:Facsimile>\n",
      "                </ows:Phone>\n",
      "                <ows:Address>\n",
      "                    <ows:DeliveryPoint></ows:DeliveryPoint>\n",
      "                    <ows:City>City</ows:City>\n",
      "                    <ows:AdministrativeArea></ows:AdministrativeArea>\n",
      "                    <ows:PostalCode>Zip or Postal Code</ows:PostalCode>\n",
      "                    <ows:Country>Country</ows:Country>\n",
      "                    <ows:ElectronicMailAddress>Email Address</ows:ElectronicMailAddress>\n",
      "                </ows:Address>\n",
      "            </ows:ContactInfo>\n",
      "        </ows:ServiceContact>\n",
      "    </ows:ServiceProvider>\n",
      "    <ows:OperationsMetadata>\n",
      "        <ows:Operation name=\"GetCapabilities\">\n",
      "            <ows:DCP>\n",
      "                <ows:HTTP>\n",
      "                    <ows:Get xlink:href=\"http://localhost:5000/wps\"/>\n",
      "                </ows:HTTP>\n",
      "            </ows:DCP>\n",
      "        </ows:Operation>\n",
      "        <ows:Operation name=\"DescribeProcess\">\n",
      "            <ows:DCP>\n",
      "                <ows:HTTP>\n",
      "                    <ows:Get xlink:href=\"http://localhost:5000/wps\"/>\n",
      "                    <ows:Post xlink:href=\"http://localhost:5000/wps\"/>\n",
      "                </ows:HTTP>\n",
      "            </ows:DCP>\n",
      "        </ows:Operation>\n",
      "        <ows:Operation name=\"Execute\">\n",
      "            <ows:DCP>\n",
      "                <ows:HTTP>\n",
      "                    <ows:Get xlink:href=\"http://localhost:5000/wps\"/>\n",
      "                    <ows:Post xlink:href=\"http://localhost:5000/wps\"/>\n",
      "                </ows:HTTP>\n",
      "            </ows:DCP>\n",
      "        </ows:Operation>\n",
      "    </ows:OperationsMetadata>\n",
      "    <wps:ProcessOfferings>\n",
      "        <wps:Process wps:processVersion=\"1.0\">\n",
      "            <ows:Identifier>subset</ows:Identifier>\n",
      "            <ows:Title>Subset</ows:Title>\n",
      "            <ows:Abstract>Run subsetting on climate model data. Calls daops operators.</ows:Abstract>\n",
      "            <ows:Metadata xlink:title=\"DAOPS\" xlink:type=\"simple\"\n",
      "              xlink:href=\"https://github.com/roocs/daops\"\n",
      "            />\n",
      "        </wps:Process>\n",
      "        <wps:Process wps:processVersion=\"1.0\">\n",
      "            <ows:Identifier>average</ows:Identifier>\n",
      "            <ows:Title>Average</ows:Title>\n",
      "            <ows:Abstract>Run averaging on climate model data. Calls daops operators.</ows:Abstract>\n",
      "            <ows:Metadata xlink:title=\"DAOPS\" xlink:type=\"simple\"\n",
      "              xlink:href=\"https://github.com/roocs/daops\"\n",
      "            />\n",
      "        </wps:Process>\n",
      "        <wps:Process wps:processVersion=\"1.0\">\n",
      "            <ows:Identifier>orchestrate</ows:Identifier>\n",
      "            <ows:Title>Orchestrate</ows:Title>\n",
      "            <ows:Abstract>Run a workflow with combined operations. A workflow can be build using the rooki client.</ows:Abstract>\n",
      "            <ows:Metadata xlink:title=\"Rooki\" xlink:type=\"simple\"\n",
      "              xlink:href=\"https://github.com/roocs/rooki\"\n",
      "            />\n",
      "        </wps:Process>\n",
      "    </wps:ProcessOfferings>\n",
      "    <wps:Languages>\n",
      "        <wps:Default>\n",
      "            <ows:Language>en-US</ows:Language>\n",
      "        </wps:Default>\n",
      "        <wps:Supported>\n",
      "            <ows:Language>en-US</ows:Language>\n",
      "        </wps:Supported>\n",
      "    </wps:Languages>\n",
      "</wps:Capabilities>\n"
     ]
    }
   ],
   "source": [
    "print(resp.text)"
   ]
  },
  {
   "cell_type": "markdown",
   "metadata": {},
   "source": [
    "## DescribeProcess subset"
   ]
  },
  {
   "cell_type": "code",
   "execution_count": 6,
   "metadata": {},
   "outputs": [
    {
     "data": {
      "text/plain": [
       "'http://localhost:5000/wps?service=WPS&version=1.0.0&request=DescribeProcess&identifier=subset'"
      ]
     },
     "execution_count": 6,
     "metadata": {},
     "output_type": "execute_result"
    }
   ],
   "source": [
    "req_url = f\"{url}?service=WPS&version=1.0.0&request=DescribeProcess&identifier=subset\"\n",
    "req_url"
   ]
  },
  {
   "cell_type": "code",
   "execution_count": 7,
   "metadata": {},
   "outputs": [
    {
     "data": {
      "text/plain": [
       "True"
      ]
     },
     "execution_count": 7,
     "metadata": {},
     "output_type": "execute_result"
    }
   ],
   "source": [
    "resp = requests.get(req_url)\n",
    "resp.ok"
   ]
  },
  {
   "cell_type": "code",
   "execution_count": 8,
   "metadata": {},
   "outputs": [
    {
     "name": "stdout",
     "output_type": "stream",
     "text": [
      "<?xml version=\"1.0\" encoding=\"UTF-8\"?>\n",
      "<!-- PyWPS 4.2.9 -->\n",
      "<wps:ProcessDescriptions xmlns:wps=\"http://www.opengis.net/wps/1.0.0\" xmlns:ows=\"http://www.opengis.net/ows/1.1\" xmlns:xlink=\"http://www.w3.org/1999/xlink\" xmlns:xsi=\"http://www.w3.org/2001/XMLSchema-instance\" xsi:schemaLocation=\"http://www.opengis.net/wps/1.0.0 ../wpsDescribeProcess_response.xsd\" service=\"WPS\" version=\"1.0.0\" xml:lang=\"en-US\">\n",
      "    <ProcessDescription wps:processVersion=\"1.0\" storeSupported=\"true\" statusSupported=\"true\">\n",
      "        <ows:Identifier>subset</ows:Identifier>\n",
      "        <ows:Title>Subset</ows:Title>\n",
      "        <ows:Abstract>Run subsetting on climate model data. Calls daops operators.</ows:Abstract>\n",
      "        <ows:Metadata xlink:title=\"DAOPS\" xlink:type=\"simple\"\n",
      "            xlink:href=\"https://github.com/roocs/daops\"\n",
      "        />\n",
      "        <DataInputs>\n",
      "            <Input minOccurs=\"1\" maxOccurs=\"1\">\n",
      "                <ows:Identifier>collection</ows:Identifier>\n",
      "                <ows:Title>Collection</ows:Title>\n",
      "                <ows:Abstract>A dataset identifier or list of comma separated identifiersExample: c3s-cmip5.output1.ICHEC.EC-EARTH.historical.day.atmos.day.r1i1p1.tas.latest</ows:Abstract>\n",
      "                <LiteralData>\n",
      "                <ows:DataType ows:reference=\"http://www.w3.org/TR/xmlschema-2/#string\">string</ows:DataType>\n",
      "                </LiteralData>\n",
      "            </Input>\n",
      "            <Input minOccurs=\"0\" maxOccurs=\"1\">\n",
      "                <ows:Identifier>time</ows:Identifier>\n",
      "                <ows:Title>Time Period</ows:Title>\n",
      "                <ows:Abstract>The time period to subset over separated by /Example: 1860-01-01/1900-12-30</ows:Abstract>\n",
      "                <LiteralData>\n",
      "                <ows:DataType ows:reference=\"http://www.w3.org/TR/xmlschema-2/#string\">string</ows:DataType>\n",
      "                </LiteralData>\n",
      "            </Input>\n",
      "            <Input minOccurs=\"0\" maxOccurs=\"1\">\n",
      "                <ows:Identifier>area</ows:Identifier>\n",
      "                <ows:Title>Area</ows:Title>\n",
      "                <ows:Abstract>The area to subset over as 4 comma separated values.Example: 0.,49.,10.,65</ows:Abstract>\n",
      "                <LiteralData>\n",
      "                <ows:DataType ows:reference=\"http://www.w3.org/TR/xmlschema-2/#string\">string</ows:DataType>\n",
      "                </LiteralData>\n",
      "            </Input>\n",
      "            <Input minOccurs=\"0\" maxOccurs=\"1\">\n",
      "                <ows:Identifier>level</ows:Identifier>\n",
      "                <ows:Title>Level</ows:Title>\n",
      "                <ows:Abstract>The level range to subset over separated by a /Example: 0/1000</ows:Abstract>\n",
      "                <LiteralData>\n",
      "                <ows:DataType ows:reference=\"http://www.w3.org/TR/xmlschema-2/#string\">string</ows:DataType>\n",
      "                </LiteralData>\n",
      "            </Input>\n",
      "            <Input minOccurs=\"1\" maxOccurs=\"1\">\n",
      "                <ows:Identifier>pre_checked</ows:Identifier>\n",
      "                <ows:Title>Pre-Checked</ows:Title>\n",
      "                <ows:Abstract>Use checked data only.</ows:Abstract>\n",
      "                <LiteralData>\n",
      "                <ows:DataType ows:reference=\"http://www.w3.org/TR/xmlschema-2/#boolean\">boolean</ows:DataType>\n",
      "                <DefaultValue>False</DefaultValue>\n",
      "                </LiteralData>\n",
      "            </Input>\n",
      "            <Input minOccurs=\"1\" maxOccurs=\"1\">\n",
      "                <ows:Identifier>apply_fixes</ows:Identifier>\n",
      "                <ows:Title>Apply Fixes</ows:Title>\n",
      "                <ows:Abstract>Apply fixes to datasets.</ows:Abstract>\n",
      "                <LiteralData>\n",
      "                <ows:DataType ows:reference=\"http://www.w3.org/TR/xmlschema-2/#boolean\">boolean</ows:DataType>\n",
      "                <DefaultValue>False</DefaultValue>\n",
      "                </LiteralData>\n",
      "            </Input>\n",
      "            <Input minOccurs=\"1\" maxOccurs=\"1\">\n",
      "                <ows:Identifier>original_files</ows:Identifier>\n",
      "                <ows:Title>Original Files</ows:Title>\n",
      "                <ows:Abstract>Return original files only.</ows:Abstract>\n",
      "                <LiteralData>\n",
      "                <ows:DataType ows:reference=\"http://www.w3.org/TR/xmlschema-2/#boolean\">boolean</ows:DataType>\n",
      "                <DefaultValue>False</DefaultValue>\n",
      "                </LiteralData>\n",
      "            </Input>\n",
      "        </DataInputs>\n",
      "        <ProcessOutputs>\n",
      "            <Output>\n",
      "                <ows:Identifier>output</ows:Identifier>\n",
      "                <ows:Title>METALINK v4 output</ows:Title>\n",
      "                <ows:Abstract>Metalink v4 document with references to NetCDF files.</ows:Abstract>\n",
      "                <ComplexOutput>\n",
      "                    <Default>\n",
      "                        <Format>\n",
      "                            <MimeType>application/metalink+xml; version=4.0</MimeType>\n",
      "                            <Schema>metalink/4.0/metalink4.xsd</Schema>\n",
      "                        </Format>\n",
      "                    </Default>\n",
      "                    <Supported>\n",
      "                        <Format>\n",
      "                            <MimeType>application/metalink+xml; version=4.0</MimeType>\n",
      "                            <Schema>metalink/4.0/metalink4.xsd</Schema>\n",
      "                        </Format>\n",
      "                    </Supported>\n",
      "                </ComplexOutput>\n",
      "            </Output>\n",
      "            <Output>\n",
      "                <ows:Identifier>prov</ows:Identifier>\n",
      "                <ows:Title>Provenance</ows:Title>\n",
      "                <ows:Abstract>Provenance document using W3C standard.</ows:Abstract>\n",
      "                <ComplexOutput>\n",
      "                    <Default>\n",
      "                        <Format>\n",
      "                            <MimeType>application/json</MimeType>\n",
      "                        </Format>\n",
      "                    </Default>\n",
      "                    <Supported>\n",
      "                        <Format>\n",
      "                            <MimeType>application/json</MimeType>\n",
      "                        </Format>\n",
      "                    </Supported>\n",
      "                </ComplexOutput>\n",
      "            </Output>\n",
      "            <Output>\n",
      "                <ows:Identifier>prov_plot</ows:Identifier>\n",
      "                <ows:Title>Provenance Diagram</ows:Title>\n",
      "                <ows:Abstract>Provenance document as diagram.</ows:Abstract>\n",
      "                <ComplexOutput>\n",
      "                    <Default>\n",
      "                        <Format>\n",
      "                            <MimeType>image/png</MimeType>\n",
      "                            <Encoding>base64</Encoding>\n",
      "                        </Format>\n",
      "                    </Default>\n",
      "                    <Supported>\n",
      "                        <Format>\n",
      "                            <MimeType>image/png</MimeType>\n",
      "                            <Encoding>base64</Encoding>\n",
      "                        </Format>\n",
      "                    </Supported>\n",
      "                </ComplexOutput>\n",
      "            </Output>\n",
      "        </ProcessOutputs>\n",
      "    </ProcessDescription>\n",
      "</wps:ProcessDescriptions>\n"
     ]
    }
   ],
   "source": [
    "print(resp.text)"
   ]
  },
  {
   "cell_type": "markdown",
   "metadata": {},
   "source": [
    "## Execute subset (sync mode)"
   ]
  },
  {
   "cell_type": "markdown",
   "metadata": {},
   "source": [
    "**Edit data inputs**"
   ]
  },
  {
   "cell_type": "code",
   "execution_count": 9,
   "metadata": {},
   "outputs": [],
   "source": [
    "collection = \"CMIP6.CMIP.IPSL.IPSL-CM6A-LR.historical.r1i1p1f1.Amon.rlds.gr.v20180803\"\n",
    "time = \"1985-01-01/2014-12-30\"\n"
   ]
  },
  {
   "cell_type": "code",
   "execution_count": 10,
   "metadata": {},
   "outputs": [
    {
     "data": {
      "text/plain": [
       "'http://localhost:5000/wps?service=WPS&version=1.0.0&request=Execute&identifier=subset&DataInputs=collection=CMIP6.CMIP.IPSL.IPSL-CM6A-LR.historical.r1i1p1f1.Amon.rlds.gr.v20180803;time=1985-01-01/2014-12-30'"
      ]
     },
     "execution_count": 10,
     "metadata": {},
     "output_type": "execute_result"
    }
   ],
   "source": [
    "datainputs = f\"DataInputs=collection={collection};time={time}\"\n",
    "req_url = f\"{url}?service=WPS&version=1.0.0&request=Execute&identifier=subset&{datainputs}\"\n",
    "req_url"
   ]
  },
  {
   "cell_type": "code",
   "execution_count": 11,
   "metadata": {},
   "outputs": [
    {
     "data": {
      "text/plain": [
       "True"
      ]
     },
     "execution_count": 11,
     "metadata": {},
     "output_type": "execute_result"
    }
   ],
   "source": [
    "resp = requests.get(req_url)\n",
    "resp.ok"
   ]
  },
  {
   "cell_type": "code",
   "execution_count": 12,
   "metadata": {},
   "outputs": [
    {
     "name": "stdout",
     "output_type": "stream",
     "text": [
      "<?xml version=\"1.0\" encoding=\"UTF-8\"?>\n",
      "<wps:ExecuteResponse xmlns:wps=\"http://www.opengis.net/wps/1.0.0\" xmlns:ows=\"http://www.opengis.net/ows/1.1\" xmlns:xlink=\"http://www.w3.org/1999/xlink\" xmlns:xsi=\"http://www.w3.org/2001/XMLSchema-instance\" xsi:schemaLocation=\"http://www.opengis.net/wps/1.0.0 ../wpsExecute_response.xsd\" service=\"WPS\" version=\"1.0.0\" xml:lang=\"en-US\" serviceInstance=\"http://localhost:5000/wps?request=GetCapabilities&amp;amp;service=WPS\" statusLocation=\"\">\n",
      "    <wps:Process wps:processVersion=\"1.0\">\n",
      "        <ows:Identifier>subset</ows:Identifier>\n",
      "        <ows:Title>Subset</ows:Title>\n",
      "        <ows:Abstract>Run subsetting on climate model data. Calls daops operators.</ows:Abstract>\n",
      "\t</wps:Process>\n",
      "    <wps:Status creationTime=\"2020-12-18T17:43:24Z\">\n",
      "        <wps:ProcessSucceeded>PyWPS Process Subset finished</wps:ProcessSucceeded>\n",
      "\t</wps:Status>\n",
      "\t<wps:ProcessOutputs>\n",
      "\t\t<wps:Output>\n",
      "            <ows:Identifier>output</ows:Identifier>\n",
      "            <ows:Title>METALINK v4 output</ows:Title>\n",
      "            <ows:Abstract>Metalink v4 document with references to NetCDF files.</ows:Abstract>\n",
      "            <wps:Reference href=\"http://localhost:5000/outputs/1b7f91a0-4150-11eb-a5e0-784f435e8862/input.meta4\" mimeType=\"application/metalink+xml; version=4.0\" encoding=\"\" schema=\"metalink/4.0/metalink4.xsd\"/>\n",
      "\t\t</wps:Output>\n",
      "\t\t<wps:Output>\n",
      "            <ows:Identifier>prov</ows:Identifier>\n",
      "            <ows:Title>Provenance</ows:Title>\n",
      "            <ows:Abstract>Provenance document using W3C standard.</ows:Abstract>\n",
      "            <wps:Reference href=\"http://localhost:5000/outputs/1b7f91a0-4150-11eb-a5e0-784f435e8862/provenance.json\" mimeType=\"application/json\" encoding=\"\" schema=\"\"/>\n",
      "\t\t</wps:Output>\n",
      "\t\t<wps:Output>\n",
      "            <ows:Identifier>prov_plot</ows:Identifier>\n",
      "            <ows:Title>Provenance Diagram</ows:Title>\n",
      "            <ows:Abstract>Provenance document as diagram.</ows:Abstract>\n",
      "            <wps:Reference href=\"http://localhost:5000/outputs/1b7f91a0-4150-11eb-a5e0-784f435e8862/provenance.png\" mimeType=\"image/png\" encoding=\"base64\" schema=\"\"/>\n",
      "\t\t</wps:Output>\n",
      "\t</wps:ProcessOutputs>\n",
      "</wps:ExecuteResponse>\n"
     ]
    }
   ],
   "source": [
    "print(resp.text)"
   ]
  },
  {
   "cell_type": "markdown",
   "metadata": {},
   "source": [
    "**Load metalink result document**\n",
    "\n",
    "Replace the metalink output URL.\n",
    "```python\n",
    "metalink_url = ''\n",
    "```"
   ]
  },
  {
   "cell_type": "code",
   "execution_count": 13,
   "metadata": {},
   "outputs": [],
   "source": [
    "metalink_url = 'http://localhost:5000/outputs/7787a312-414f-11eb-a5e0-784f435e8862/input.meta4'\n"
   ]
  },
  {
   "cell_type": "code",
   "execution_count": 14,
   "metadata": {},
   "outputs": [
    {
     "name": "stdout",
     "output_type": "stream",
     "text": [
      "<?xml version=\"1.0\" encoding=\"UTF-8\"?>\n",
      "<metalink xmlns=\"urn:ietf:params:xml:ns:metalink\">\n",
      "    <published>2020-12-18T17:38:42Z</published>\n",
      "    <generator>PyWPS/4.2.9</generator>\n",
      "\n",
      "    <file name=\"rlds_Amon_IPSL-CM6A-LR_historical_r1i1p1f1_gr_19850116-20141216.nc\">\n",
      "        <identity>NetCDF file</identity>\n",
      "        <size>51683</size>\n",
      "        <metaurl mediatype=\"application/x-netcdf\">http://localhost:5000/outputs/7d9141c8-414f-11eb-a5e0-784f435e8862/rlds_Amon_IPSL-CM6A-LR_historical_r1i1p1f1_gr_19850116-20141216.nc</metaurl>\n",
      "        <publisher name=\"None\" url=\"http://localhost:5000/wps\"/>\n",
      "    </file>\n",
      "\n",
      "</metalink>\n"
     ]
    }
   ],
   "source": [
    "print(requests.get(metalink_url).text)"
   ]
  },
  {
   "cell_type": "markdown",
   "metadata": {},
   "source": [
    "## Execute subset (async mode)"
   ]
  },
  {
   "cell_type": "code",
   "execution_count": 15,
   "metadata": {},
   "outputs": [
    {
     "data": {
      "text/plain": [
       "'http://localhost:5000/wps?service=WPS&version=1.0.0&request=Execute&identifier=subset&DataInputs=collection=CMIP6.CMIP.IPSL.IPSL-CM6A-LR.historical.r1i1p1f1.Amon.rlds.gr.v20180803;time=1985-01-01/2014-12-30&status=true&storeExecuteResponse=true'"
      ]
     },
     "execution_count": 15,
     "metadata": {},
     "output_type": "execute_result"
    }
   ],
   "source": [
    "req_url = f\"{url}?service=WPS&version=1.0.0&request=Execute&identifier=subset&{datainputs}\"\n",
    "req_url += \"&status=true&storeExecuteResponse=true\"\n",
    "req_url"
   ]
  },
  {
   "cell_type": "code",
   "execution_count": 16,
   "metadata": {},
   "outputs": [
    {
     "data": {
      "text/plain": [
       "True"
      ]
     },
     "execution_count": 16,
     "metadata": {},
     "output_type": "execute_result"
    }
   ],
   "source": [
    "resp = requests.get(req_url)\n",
    "resp.ok"
   ]
  },
  {
   "cell_type": "code",
   "execution_count": 17,
   "metadata": {},
   "outputs": [
    {
     "name": "stdout",
     "output_type": "stream",
     "text": [
      "<?xml version=\"1.0\" encoding=\"UTF-8\"?>\n",
      "<wps:ExecuteResponse xmlns:wps=\"http://www.opengis.net/wps/1.0.0\" xmlns:ows=\"http://www.opengis.net/ows/1.1\" xmlns:xlink=\"http://www.w3.org/1999/xlink\" xmlns:xsi=\"http://www.w3.org/2001/XMLSchema-instance\" xsi:schemaLocation=\"http://www.opengis.net/wps/1.0.0 ../wpsExecute_response.xsd\" service=\"WPS\" version=\"1.0.0\" xml:lang=\"en-US\" serviceInstance=\"http://localhost:5000/wps?request=GetCapabilities&amp;amp;service=WPS\" statusLocation=\"http://localhost:5000/outputs/253eb9f0-4150-11eb-a5e0-784f435e8862.xml\">\n",
      "    <wps:Process wps:processVersion=\"1.0\">\n",
      "        <ows:Identifier>subset</ows:Identifier>\n",
      "        <ows:Title>Subset</ows:Title>\n",
      "        <ows:Abstract>Run subsetting on climate model data. Calls daops operators.</ows:Abstract>\n",
      "\t</wps:Process>\n",
      "    <wps:Status creationTime=\"2020-12-18T17:43:24Z\">\n",
      "        <wps:ProcessAccepted percentCompleted=\"0\">PyWPS Process subset accepted</wps:ProcessAccepted>\n",
      "\t</wps:Status>\n",
      "</wps:ExecuteResponse>\n"
     ]
    }
   ],
   "source": [
    "print(resp.text)"
   ]
  },
  {
   "cell_type": "markdown",
   "metadata": {},
   "source": [
    "**Poll status location**\n",
    "\n",
    "Replace the `statusLocation` URL.\n",
    "```python\n",
    "statusLocation = ''\n",
    "```"
   ]
  },
  {
   "cell_type": "code",
   "execution_count": 18,
   "metadata": {},
   "outputs": [],
   "source": [
    "# statusLocation = ''\n",
    "statusLocation = 'http://localhost:5000/outputs/ad9db626-414f-11eb-a5e0-784f435e8862.xml'\n"
   ]
  },
  {
   "cell_type": "code",
   "execution_count": 19,
   "metadata": {},
   "outputs": [
    {
     "name": "stdout",
     "output_type": "stream",
     "text": [
      "<?xml version=\"1.0\" encoding=\"UTF-8\"?>\n",
      "<wps:ExecuteResponse xmlns:wps=\"http://www.opengis.net/wps/1.0.0\" xmlns:ows=\"http://www.opengis.net/ows/1.1\" xmlns:xlink=\"http://www.w3.org/1999/xlink\" xmlns:xsi=\"http://www.w3.org/2001/XMLSchema-instance\" xsi:schemaLocation=\"http://www.opengis.net/wps/1.0.0 ../wpsExecute_response.xsd\" service=\"WPS\" version=\"1.0.0\" xml:lang=\"en-US\" serviceInstance=\"http://localhost:5000/wps?request=GetCapabilities&amp;amp;service=WPS\" statusLocation=\"http://localhost:5000/outputs/ad9db626-414f-11eb-a5e0-784f435e8862.xml\">\n",
      "    <wps:Process wps:processVersion=\"1.0\">\n",
      "        <ows:Identifier>subset</ows:Identifier>\n",
      "        <ows:Title>Subset</ows:Title>\n",
      "        <ows:Abstract>Run subsetting on climate model data. Calls daops operators.</ows:Abstract>\n",
      "\t</wps:Process>\n",
      "    <wps:Status creationTime=\"2020-12-18T17:40:16Z\">\n",
      "        <wps:ProcessSucceeded>PyWPS Process Subset finished</wps:ProcessSucceeded>\n",
      "\t</wps:Status>\n",
      "\t<wps:ProcessOutputs>\n",
      "\t\t<wps:Output>\n",
      "            <ows:Identifier>output</ows:Identifier>\n",
      "            <ows:Title>METALINK v4 output</ows:Title>\n",
      "            <ows:Abstract>Metalink v4 document with references to NetCDF files.</ows:Abstract>\n",
      "            <wps:Reference href=\"http://localhost:5000/outputs/ad9db626-414f-11eb-a5e0-784f435e8862/input.meta4\" mimeType=\"application/metalink+xml; version=4.0\" encoding=\"\" schema=\"metalink/4.0/metalink4.xsd\"/>\n",
      "\t\t</wps:Output>\n",
      "\t\t<wps:Output>\n",
      "            <ows:Identifier>prov</ows:Identifier>\n",
      "            <ows:Title>Provenance</ows:Title>\n",
      "            <ows:Abstract>Provenance document using W3C standard.</ows:Abstract>\n",
      "            <wps:Reference href=\"http://localhost:5000/outputs/ad9db626-414f-11eb-a5e0-784f435e8862/provenance.json\" mimeType=\"application/json\" encoding=\"\" schema=\"\"/>\n",
      "\t\t</wps:Output>\n",
      "\t\t<wps:Output>\n",
      "            <ows:Identifier>prov_plot</ows:Identifier>\n",
      "            <ows:Title>Provenance Diagram</ows:Title>\n",
      "            <ows:Abstract>Provenance document as diagram.</ows:Abstract>\n",
      "            <wps:Reference href=\"http://localhost:5000/outputs/ad9db626-414f-11eb-a5e0-784f435e8862/provenance.png\" mimeType=\"image/png\" encoding=\"base64\" schema=\"\"/>\n",
      "\t\t</wps:Output>\n",
      "\t</wps:ProcessOutputs>\n",
      "</wps:ExecuteResponse>\n"
     ]
    }
   ],
   "source": [
    "resp = requests.get(statusLocation)\n",
    "print(resp.text)"
   ]
  },
  {
   "cell_type": "markdown",
   "metadata": {},
   "source": [
    "**Load metalink document**\n",
    "\n",
    "Replace the metalink output URL.\n",
    "```python\n",
    "metalink_url = ''\n",
    "```"
   ]
  },
  {
   "cell_type": "code",
   "execution_count": 20,
   "metadata": {},
   "outputs": [],
   "source": [
    "metalink_url = 'http://localhost:5000/outputs/ad9db626-414f-11eb-a5e0-784f435e8862/input.meta4'\n"
   ]
  },
  {
   "cell_type": "code",
   "execution_count": 21,
   "metadata": {},
   "outputs": [
    {
     "name": "stdout",
     "output_type": "stream",
     "text": [
      "<?xml version=\"1.0\" encoding=\"UTF-8\"?>\n",
      "<metalink xmlns=\"urn:ietf:params:xml:ns:metalink\">\n",
      "    <published>2020-12-18T17:40:15Z</published>\n",
      "    <generator>PyWPS/4.2.9</generator>\n",
      "\n",
      "    <file name=\"rlds_Amon_IPSL-CM6A-LR_historical_r1i1p1f1_gr_19850116-20141216.nc\">\n",
      "        <identity>NetCDF file</identity>\n",
      "        <size>51683</size>\n",
      "        <metaurl mediatype=\"application/x-netcdf\">http://localhost:5000/outputs/b4f6dd08-414f-11eb-a5e0-784f435e8862/rlds_Amon_IPSL-CM6A-LR_historical_r1i1p1f1_gr_19850116-20141216.nc</metaurl>\n",
      "        <publisher name=\"None\" url=\"http://localhost:5000/wps\"/>\n",
      "    </file>\n",
      "\n",
      "</metalink>\n"
     ]
    }
   ],
   "source": [
    "print(requests.get(metalink_url).text)"
   ]
  },
  {
   "cell_type": "markdown",
   "metadata": {},
   "source": [
    "**Download netCDF output**\n",
    "\n",
    "Replace the download URL.\n",
    "\n",
    "```python\n",
    "download_url = ''\n",
    "```"
   ]
  },
  {
   "cell_type": "code",
   "execution_count": 22,
   "metadata": {},
   "outputs": [],
   "source": [
    "download_url = 'http://localhost:5000/outputs/b4f6dd08-414f-11eb-a5e0-784f435e8862/rlds_Amon_IPSL-CM6A-LR_historical_r1i1p1f1_gr_19850116-20141216.nc'\n"
   ]
  },
  {
   "cell_type": "code",
   "execution_count": 23,
   "metadata": {},
   "outputs": [
    {
     "name": "stdout",
     "output_type": "stream",
     "text": [
      "http://localhost:5000/outputs/b4f6dd08-414f-11eb-a5e0-784f435e8862/rlds_Amon_IPSL-CM6A-LR_historical_r1i1p1f1_gr_19850116-20141216.nc\n"
     ]
    }
   ],
   "source": [
    "print(download_url)"
   ]
  }
 ],
 "metadata": {
  "kernelspec": {
   "display_name": "Python 3",
   "language": "python",
   "name": "python3"
  },
  "language_info": {
   "codemirror_mode": {
    "name": "ipython",
    "version": 3
   },
   "file_extension": ".py",
   "mimetype": "text/x-python",
   "name": "python",
   "nbconvert_exporter": "python",
   "pygments_lexer": "ipython3",
   "version": "3.9.2"
  }
 },
 "nbformat": 4,
 "nbformat_minor": 4
}
