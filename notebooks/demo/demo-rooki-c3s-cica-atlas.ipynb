{
 "cells": [
  {
   "cell_type": "markdown",
   "metadata": {},
   "source": [
    "# Run workflow with c3s-cica-atlas v1 data\n",
    "\n",
    "**Rooki** calls climate data operations on the **rook** processing service."
   ]
  },
  {
   "cell_type": "code",
   "execution_count": null,
   "metadata": {},
   "outputs": [],
   "source": [
    "import os\n",
    "import time\n",
    "os.environ['ROOK_URL'] = 'http://rook.dkrz.de/wps'\n",
    "\n",
    "from rooki import rooki\n",
    "from rooki import operators as ops"
   ]
  },
  {
   "cell_type": "markdown",
   "metadata": {},
   "source": [
    "## workflow: subset ERA5\n"
   ]
  },
  {
   "cell_type": "code",
   "execution_count": null,
   "metadata": {},
   "outputs": [],
   "source": [
    "ds = ops.Input(\n",
    "    'ds', ['c3s-cica-atlas.tx.ERA5.mon.v1']\n",
    ")\n",
    "\n",
    "wf = ops.Subset(\n",
    "    ds, \n",
    "    time=\"2000/2000\",\n",
    "    time_components=\"month:jan,feb,mar\",\n",
    "    area='0.,49.,10.,65',\n",
    ")\n",
    "\n",
    "resp = wf.orchestrate()\n",
    "resp.ok"
   ]
  },
  {
   "cell_type": "code",
   "execution_count": null,
   "metadata": {},
   "outputs": [],
   "source": [
    "resp.download_urls()"
   ]
  },
  {
   "cell_type": "code",
   "execution_count": null,
   "metadata": {},
   "outputs": [],
   "source": [
    "ds = resp.datasets()[0]\n",
    "ds"
   ]
  },
  {
   "cell_type": "markdown",
   "metadata": {},
   "source": [
    "## workflow: subset ERA5-Land"
   ]
  },
  {
   "cell_type": "code",
   "execution_count": null,
   "metadata": {},
   "outputs": [],
   "source": [
    "ds = ops.Input(\n",
    "    'ds', ['c3s-cica-atlas.fd.ERA5-Land.mon.v1']\n",
    ")\n",
    "\n",
    "wf = ops.Subset(\n",
    "    ds, \n",
    "    time=\"2000/2000\",\n",
    "    time_components=\"month:jan,feb,mar\",\n",
    "    area='0.,49.,10.,65',\n",
    ")\n",
    "\n",
    "resp = wf.orchestrate()\n",
    "resp.ok"
   ]
  },
  {
   "cell_type": "code",
   "execution_count": null,
   "metadata": {},
   "outputs": [],
   "source": [
    "ds = resp.datasets()[0]\n",
    "ds"
   ]
  },
  {
   "cell_type": "markdown",
   "metadata": {},
   "source": [
    "## workflow: subset cmip5"
   ]
  },
  {
   "cell_type": "code",
   "execution_count": null,
   "metadata": {},
   "outputs": [],
   "source": [
    "ds = ops.Input(\n",
    "    'ds', ['c3s-cica-atlas.pr.CMIP5.historical.mon.v1']\n",
    ")\n",
    "\n",
    "wf = ops.Subset(\n",
    "    ds, \n",
    "    time=\"2000/2000\",\n",
    "    time_components=\"month:jan,feb,mar\",\n",
    "    area='0.,49.,10.,65',\n",
    ")\n",
    "\n",
    "resp = wf.orchestrate()\n",
    "resp.ok"
   ]
  },
  {
   "cell_type": "code",
   "execution_count": null,
   "metadata": {},
   "outputs": [],
   "source": [
    "ds = resp.datasets()[0]\n",
    "ds"
   ]
  },
  {
   "cell_type": "markdown",
   "metadata": {},
   "source": [
    "## workflow: subset cmip6"
   ]
  },
  {
   "cell_type": "code",
   "execution_count": null,
   "metadata": {},
   "outputs": [],
   "source": [
    "ds = ops.Input(\n",
    "    'ds', ['c3s-cica-atlas.fd.CMIP6.historical.mon.v1']\n",
    ")\n",
    "\n",
    "wf = ops.Subset(\n",
    "    ds, \n",
    "    time=\"2000/2000\",\n",
    "    time_components=\"month:jan,feb,mar\",\n",
    "    area='0.,49.,10.,65',\n",
    ")\n",
    "\n",
    "resp = wf.orchestrate()\n",
    "resp.ok"
   ]
  },
  {
   "cell_type": "code",
   "execution_count": null,
   "metadata": {},
   "outputs": [],
   "source": [
    "ds = resp.datasets()[0]\n",
    "ds"
   ]
  },
  {
   "cell_type": "markdown",
   "metadata": {},
   "source": [
    "## workflow: subset ORAS5"
   ]
  },
  {
   "cell_type": "code",
   "execution_count": null,
   "metadata": {},
   "outputs": [],
   "source": [
    "ds = ops.Input(\n",
    "    'ds', ['c3s-cica-atlas.sst.ORAS5.mon.v1']\n",
    ")\n",
    "\n",
    "wf = ops.Subset(\n",
    "    ds, \n",
    "    time=\"2000/2000\",\n",
    "    time_components=\"month:jan,feb,mar\",\n",
    "    area='0.,49.,10.,65',\n",
    ")\n",
    "\n",
    "resp = wf.orchestrate()\n",
    "resp.ok"
   ]
  },
  {
   "cell_type": "code",
   "execution_count": null,
   "metadata": {},
   "outputs": [],
   "source": [
    "ds = resp.datasets()[0]\n",
    "ds"
   ]
  },
  {
   "cell_type": "markdown",
   "metadata": {},
   "source": [
    "## workflow: subset cordex eur-11"
   ]
  },
  {
   "cell_type": "code",
   "execution_count": null,
   "metadata": {},
   "outputs": [],
   "source": [
    "ds = ops.Input(\n",
    "    'ds', ['c3s-cica-atlas.fd.CORDEX-EUR-11.historical.mon.v1']\n",
    ")\n",
    "\n",
    "wf = ops.Subset(\n",
    "    ds, \n",
    "    time=\"2000/2000\",\n",
    "    time_components=\"month:jan\",\n",
    ")\n",
    "\n",
    "resp = wf.orchestrate()\n",
    "resp.ok"
   ]
  },
  {
   "cell_type": "code",
   "execution_count": null,
   "metadata": {},
   "outputs": [],
   "source": [
    "ds = resp.datasets()[0]\n",
    "ds"
   ]
  },
  {
   "cell_type": "markdown",
   "metadata": {},
   "source": [
    "## workflow: subset cordex core"
   ]
  },
  {
   "cell_type": "code",
   "execution_count": null,
   "metadata": {},
   "outputs": [],
   "source": [
    "ds = ops.Input(\n",
    "    'ds', ['c3s-cica-atlas.rlds.CORDEX-CORE.historical.mon.v1']\n",
    ")\n",
    "\n",
    "wf = ops.Subset(\n",
    "    ds, \n",
    "    time=\"2000/2000\",\n",
    "    time_components=\"month:jan\",\n",
    ")\n",
    "\n",
    "resp = wf.orchestrate()\n",
    "resp.ok"
   ]
  },
  {
   "cell_type": "code",
   "execution_count": null,
   "metadata": {},
   "outputs": [],
   "source": [
    "resp.size_in_mb"
   ]
  },
  {
   "cell_type": "code",
   "execution_count": null,
   "metadata": {},
   "outputs": [],
   "source": [
    "resp.download_urls()"
   ]
  },
  {
   "cell_type": "code",
   "execution_count": null,
   "metadata": {},
   "outputs": [],
   "source": [
    "# ds = resp.datasets()[0]\n",
    "# ds"
   ]
  },
  {
   "cell_type": "markdown",
   "metadata": {},
   "source": [
    "## workflow: complete time range"
   ]
  },
  {
   "cell_type": "code",
   "execution_count": null,
   "metadata": {},
   "outputs": [],
   "source": [
    "start = time.time()"
   ]
  },
  {
   "cell_type": "code",
   "execution_count": null,
   "metadata": {},
   "outputs": [],
   "source": [
    "ds = ops.Input(\n",
    "    'ds', ['c3s-cica-atlas.rlds.CORDEX-CORE.historical.mon.v1']\n",
    ")\n",
    "\n",
    "wf = ops.Subset(\n",
    "    ds, \n",
    "    # time=\"2000/2000\",\n",
    ")\n",
    "\n",
    "resp = wf.orchestrate()\n",
    "resp.ok"
   ]
  },
  {
   "cell_type": "code",
   "execution_count": null,
   "metadata": {},
   "outputs": [],
   "source": [
    "duration = time.time() - start\n",
    "print(f\"duration: {duration} secs\")"
   ]
  },
  {
   "cell_type": "code",
   "execution_count": null,
   "metadata": {},
   "outputs": [],
   "source": [
    "resp.download_urls()"
   ]
  },
  {
   "cell_type": "markdown",
   "metadata": {},
   "source": [
    "## workflow: most of the time range"
   ]
  },
  {
   "cell_type": "code",
   "execution_count": null,
   "metadata": {},
   "outputs": [],
   "source": [
    "start = time.time()"
   ]
  },
  {
   "cell_type": "code",
   "execution_count": null,
   "metadata": {},
   "outputs": [],
   "source": [
    "ds = ops.Input(\n",
    "    'ds', ['c3s-cica-atlas.rlds.CORDEX-CORE.historical.mon.v1']\n",
    ")\n",
    "\n",
    "wf = ops.Subset(\n",
    "    ds, \n",
    "    time=\"1970/2004\",\n",
    ")\n",
    "\n",
    "resp = wf.orchestrate()\n",
    "resp.ok"
   ]
  },
  {
   "cell_type": "code",
   "execution_count": null,
   "metadata": {},
   "outputs": [],
   "source": [
    "duration = time.time() - start\n",
    "print(f\"duration: {duration} secs\")"
   ]
  },
  {
   "cell_type": "code",
   "execution_count": null,
   "metadata": {},
   "outputs": [],
   "source": [
    "resp.size_in_mb"
   ]
  },
  {
   "cell_type": "code",
   "execution_count": null,
   "metadata": {},
   "outputs": [],
   "source": [
    "resp.download_urls()"
   ]
  }
 ],
 "metadata": {
  "kernelspec": {
   "display_name": "Python 3 (ipykernel)",
   "language": "python",
   "name": "python3"
  },
  "language_info": {
   "codemirror_mode": {
    "name": "ipython",
    "version": 3
   },
   "file_extension": ".py",
   "mimetype": "text/x-python",
   "name": "python",
   "nbconvert_exporter": "python",
   "pygments_lexer": "ipython3",
   "version": "3.12.0"
  }
 },
 "nbformat": 4,
 "nbformat_minor": 4
}
