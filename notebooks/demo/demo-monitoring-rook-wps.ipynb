{
 "cells": [
  {
   "cell_type": "markdown",
   "metadata": {},
   "source": [
    "# Monitoring Rook WPS"
   ]
  },
  {
   "cell_type": "markdown",
   "metadata": {},
   "source": [
    "## GeoHealthcheck\n",
    "\n",
    "[GeoHealthCheck](https://geohealthcheck.org/) is a monitor for GeoSpatial WebServices:\n",
    "\n",
    "GeoHealthCheck instance for monitoring Rook WPS services:\n",
    "\n",
    "https://geohealthcheck.cloud.dkrz.de"
   ]
  },
  {
   "cell_type": "markdown",
   "metadata": {},
   "source": [
    "## Monitoring with Jupyter Notebooks\n",
    "\n",
    "Using Jupyter notebooks with [pytest](https://docs.pytest.org/en/latest/) extension [nbval](https://pypi.org/project/nbval/) to monitor Rook WPS:\n",
    "\n",
    "https://nbviewer.jupyter.org/github/roocs/rooki/tree/master/notebooks/\n",
    "\n",
    "Tests can be run via a cron-job. For example on Travis on a daily basis:\n",
    "\n",
    "https://travis-ci.com/github/roocs/rooki/builds\n"
   ]
  }
 ],
 "metadata": {
  "kernelspec": {
   "display_name": "Python 3",
   "language": "python",
   "name": "python3"
  },
  "language_info": {
   "codemirror_mode": {
    "name": "ipython",
    "version": 3
   },
   "file_extension": ".py",
   "mimetype": "text/x-python",
   "name": "python",
   "nbconvert_exporter": "python",
   "pygments_lexer": "ipython3",
   "version": "3.8.5"
  }
 },
 "nbformat": 4,
 "nbformat_minor": 4
}
