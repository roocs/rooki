{
 "cells": [
  {
   "cell_type": "code",
   "execution_count": null,
   "id": "executed-terror",
   "metadata": {},
   "outputs": [],
   "source": [
    "import os\n",
    "os.environ['ROOK_URL'] = 'http://rook1.cloud.dkrz.de/wps'\n",
    "\n",
    "from rooki import rooki"
   ]
  },
  {
   "cell_type": "markdown",
   "id": "female-blair",
   "metadata": {},
   "source": [
    "## Check GetCapabilities"
   ]
  },
  {
   "cell_type": "code",
   "execution_count": null,
   "id": "noted-disaster",
   "metadata": {},
   "outputs": [],
   "source": [
    "assert hasattr(rooki, 'subset')"
   ]
  },
  {
   "cell_type": "code",
   "execution_count": null,
   "id": "ranking-colleague",
   "metadata": {},
   "outputs": [],
   "source": [
    "assert hasattr(rooki, 'average')"
   ]
  },
  {
   "cell_type": "code",
   "execution_count": null,
   "id": "norwegian-satisfaction",
   "metadata": {},
   "outputs": [],
   "source": [
    "assert hasattr(rooki, 'orchestrate')"
   ]
  },
  {
   "cell_type": "markdown",
   "id": "rental-tooth",
   "metadata": {},
   "source": [
    "## Check DescribeProcess"
   ]
  },
  {
   "cell_type": "code",
   "execution_count": null,
   "id": "excess-private",
   "metadata": {},
   "outputs": [],
   "source": [
    "import inspect\n",
    "signature = inspect.signature(rooki.subset)"
   ]
  },
  {
   "cell_type": "code",
   "execution_count": null,
   "id": "handmade-brighton",
   "metadata": {},
   "outputs": [],
   "source": [
    "assert \"collection\" in signature.parameters"
   ]
  },
  {
   "cell_type": "code",
   "execution_count": null,
   "id": "federal-sight",
   "metadata": {},
   "outputs": [],
   "source": [
    "assert \"time\" in signature.parameters"
   ]
  },
  {
   "cell_type": "code",
   "execution_count": null,
   "id": "piano-forwarding",
   "metadata": {},
   "outputs": [],
   "source": [
    "assert \"area\" in signature.parameters"
   ]
  },
  {
   "cell_type": "markdown",
   "id": "comparable-denver",
   "metadata": {},
   "source": [
    "## Check Execute"
   ]
  },
  {
   "cell_type": "code",
   "execution_count": null,
   "id": "rough-emergency",
   "metadata": {},
   "outputs": [],
   "source": [
    "# use common cmip6 collection\n",
    "collection=\"c3s-cmip6.ScenarioMIP.INM.INM-CM5-0.ssp245.r1i1p1f1.Amon.rlds.gr1.v20190619\""
   ]
  },
  {
   "cell_type": "markdown",
   "id": "forced-classification",
   "metadata": {},
   "source": [
    "### Subset time"
   ]
  },
  {
   "cell_type": "code",
   "execution_count": null,
   "id": "ultimate-workplace",
   "metadata": {},
   "outputs": [],
   "source": [
    "resp = rooki.subset(\n",
    "    collection=collection,\n",
    "    time='2020-01-01/2020-12-30',\n",
    ")\n",
    "assert resp.ok"
   ]
  },
  {
   "cell_type": "markdown",
   "id": "transsexual-electricity",
   "metadata": {},
   "source": [
    "### Subset time ... original files"
   ]
  },
  {
   "cell_type": "code",
   "execution_count": null,
   "id": "infinite-analyst",
   "metadata": {},
   "outputs": [],
   "source": [
    "resp = rooki.subset(\n",
    "    collection=collection,\n",
    "    time=\"2015-01-16T12:00:00/2100-12-16T12:00:00\",\n",
    ")\n",
    "assert resp.ok"
   ]
  },
  {
   "cell_type": "code",
   "execution_count": null,
   "id": "foster-chase",
   "metadata": {},
   "outputs": [],
   "source": [
    "\"data.mips.copernicus-climate.eu\" in resp.download_urls()[0]"
   ]
  },
  {
   "cell_type": "markdown",
   "id": "treated-philadelphia",
   "metadata": {},
   "source": [
    "### Subset time ... orignal files ... extended time range"
   ]
  },
  {
   "cell_type": "code",
   "execution_count": null,
   "id": "earlier-ordinary",
   "metadata": {},
   "outputs": [],
   "source": [
    "resp = rooki.subset(\n",
    "    collection=collection,\n",
    "    time=\"1900-01-01/2500-12-30\",\n",
    ")\n",
    "assert resp.ok"
   ]
  },
  {
   "cell_type": "code",
   "execution_count": null,
   "id": "improved-transportation",
   "metadata": {},
   "outputs": [],
   "source": [
    "\"data.mips.copernicus-climate.eu\" in resp.download_urls()[0]"
   ]
  },
  {
   "cell_type": "markdown",
   "id": "boxed-sigma",
   "metadata": {},
   "source": [
    "### Subset time ... original files ... no time parameter"
   ]
  },
  {
   "cell_type": "code",
   "execution_count": null,
   "id": "compressed-barcelona",
   "metadata": {},
   "outputs": [],
   "source": [
    "resp = rooki.subset(\n",
    "    collection=collection,\n",
    ")\n",
    "assert resp.ok"
   ]
  },
  {
   "cell_type": "code",
   "execution_count": null,
   "id": "dedicated-magnitude",
   "metadata": {},
   "outputs": [],
   "source": [
    "assert \"data.mips.copernicus-climate.eu\" in resp.download_urls()[0]"
   ]
  },
  {
   "cell_type": "markdown",
   "id": "absent-faith",
   "metadata": {},
   "source": [
    "### Subset time and area  ... positive lat/lon"
   ]
  },
  {
   "cell_type": "code",
   "execution_count": null,
   "id": "weird-holocaust",
   "metadata": {},
   "outputs": [],
   "source": [
    "resp = rooki.subset(\n",
    "    collection=collection,\n",
    "    time=\"2020-01-01/2020-12-30\",\n",
    "    area=\"10,10,40,40\"\n",
    ")\n",
    "assert resp.ok"
   ]
  },
  {
   "cell_type": "markdown",
   "id": "personalized-postcard",
   "metadata": {},
   "source": [
    "### Subset time and area ... negative lat/lon"
   ]
  },
  {
   "cell_type": "code",
   "execution_count": null,
   "id": "suspended-intersection",
   "metadata": {},
   "outputs": [],
   "source": [
    "resp = rooki.subset(\n",
    "    collection=collection,\n",
    "    time='2020-01-01/2020-12-30',\n",
    "    area='-50,-50,-10,-10'\n",
    ")\n",
    "assert resp.ok"
   ]
  },
  {
   "cell_type": "markdown",
   "id": "civil-degree",
   "metadata": {},
   "source": [
    "### Subset time and area ... cross meridian"
   ]
  },
  {
   "cell_type": "code",
   "execution_count": null,
   "id": "amber-lebanon",
   "metadata": {},
   "outputs": [],
   "source": [
    "resp = rooki.subset(\n",
    "    collection=collection,\n",
    "    time='2020-01-01/2020-12-30',\n",
    "    area='-50,-50,50,50'\n",
    ")\n",
    "assert resp.ok"
   ]
  },
  {
   "cell_type": "markdown",
   "id": "designed-trout",
   "metadata": {},
   "source": [
    "### Subset time and area ... negative lat, positive lon"
   ]
  },
  {
   "cell_type": "code",
   "execution_count": null,
   "id": "dense-arrival",
   "metadata": {},
   "outputs": [],
   "source": [
    "resp = rooki.subset(\n",
    "    collection=collection,\n",
    "    time='2020-01-01/2020-12-30',\n",
    "    area='-200,40,-50,80'\n",
    ")\n",
    "assert resp.ok"
   ]
  }
 ],
 "metadata": {
  "kernelspec": {
   "display_name": "Python 3",
   "language": "python",
   "name": "python3"
  },
  "language_info": {
   "codemirror_mode": {
    "name": "ipython",
    "version": 3
   },
   "file_extension": ".py",
   "mimetype": "text/x-python",
   "name": "python",
   "nbconvert_exporter": "python",
   "pygments_lexer": "ipython3",
   "version": "3.9.2"
  }
 },
 "nbformat": 4,
 "nbformat_minor": 5
}
