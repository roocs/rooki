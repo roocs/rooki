{
 "cells": [
  {
   "cell_type": "code",
   "execution_count": null,
   "id": "subtle-marathon",
   "metadata": {},
   "outputs": [],
   "source": [
    "import os\n",
    "os.environ['ROOK_URL'] = 'http://rook1.cloud.dkrz.de/wps'\n",
    "\n",
    "from rooki import rooki"
   ]
  },
  {
   "cell_type": "markdown",
   "id": "different-synthesis",
   "metadata": {},
   "source": [
    "## Check GetCapabilities"
   ]
  },
  {
   "cell_type": "code",
   "execution_count": null,
   "id": "severe-arrow",
   "metadata": {},
   "outputs": [],
   "source": [
    "help(rooki)"
   ]
  },
  {
   "cell_type": "markdown",
   "id": "sudden-doctrine",
   "metadata": {},
   "source": [
    "## Check DescribeProcess"
   ]
  },
  {
   "cell_type": "code",
   "execution_count": null,
   "id": "structured-belize",
   "metadata": {},
   "outputs": [],
   "source": [
    "help(rooki.subset)"
   ]
  },
  {
   "cell_type": "markdown",
   "id": "satellite-father",
   "metadata": {},
   "source": [
    "## Check Execute ..."
   ]
  },
  {
   "cell_type": "code",
   "execution_count": null,
   "id": "stretch-correspondence",
   "metadata": {},
   "outputs": [],
   "source": [
    "resp = rooki.subset(\n",
    "    collection='c3s-cmip6.ScenarioMIP.INM.INM-CM5-0.ssp245.r1i1p1f1.Amon.rlds.gr1.v20190619',\n",
    "    time='2020-01-01/2020-12-30',\n",
    ")\n",
    "resp.ok"
   ]
  },
  {
   "cell_type": "code",
   "execution_count": null,
   "id": "correct-clarity",
   "metadata": {},
   "outputs": [],
   "source": [
    "# identify original files on the Data Node.\n",
    "resp = rooki.subset(\n",
    "    collection='c3s-cmip6.ScenarioMIP.INM.INM-CM5-0.ssp245.r1i1p1f1.Amon.rlds.gr1.v20190619',\n",
    "    time='2015-01-16T12:00:00/2100-12-16T12:00:00',\n",
    ")\n",
    "resp.ok"
   ]
  },
  {
   "cell_type": "code",
   "execution_count": null,
   "id": "herbal-runner",
   "metadata": {},
   "outputs": [],
   "source": [
    "# identify original files on the Data Node.\n",
    "resp = rooki.subset(\n",
    "    collection='c3s-cmip6.ScenarioMIP.INM.INM-CM5-0.ssp245.r1i1p1f1.Amon.rlds.gr1.v20190619',\n",
    "    time='1900-01-01/2500-12-30',\n",
    ")\n",
    "resp.ok"
   ]
  },
  {
   "cell_type": "code",
   "execution_count": null,
   "id": "necessary-disability",
   "metadata": {},
   "outputs": [],
   "source": [
    "# identify original files on the Data Node.\n",
    "resp = rooki.subset(\n",
    "    collection='c3s-cmip6.ScenarioMIP.INM.INM-CM5-0.ssp245.r1i1p1f1.Amon.rlds.gr1.v20190619',\n",
    ")\n",
    "resp.ok"
   ]
  },
  {
   "cell_type": "code",
   "execution_count": null,
   "id": "aquatic-ferry",
   "metadata": {},
   "outputs": [],
   "source": [
    "# time and area\n",
    "resp = rooki.subset(\n",
    "    collection='c3s-cmip6.ScenarioMIP.INM.INM-CM5-0.ssp245.r1i1p1f1.Amon.rlds.gr1.v20190619',\n",
    "    time='2020-01-01/2020-12-30',\n",
    "    area='10,10,40,40'\n",
    ")\n",
    "resp.ok"
   ]
  },
  {
   "cell_type": "code",
   "execution_count": null,
   "id": "breathing-cylinder",
   "metadata": {},
   "outputs": [],
   "source": [
    "# time and area\n",
    "resp = rooki.subset(\n",
    "    collection='c3s-cmip6.ScenarioMIP.INM.INM-CM5-0.ssp245.r1i1p1f1.Amon.rlds.gr1.v20190619',\n",
    "    time='2020-01-01/2020-12-30',\n",
    "    area='-50,-50,-10,-10'\n",
    ")\n",
    "resp.ok"
   ]
  },
  {
   "cell_type": "code",
   "execution_count": null,
   "id": "annual-survivor",
   "metadata": {},
   "outputs": [],
   "source": [
    "# time and area\n",
    "resp = rooki.subset(\n",
    "    collection='c3s-cmip6.ScenarioMIP.INM.INM-CM5-0.ssp245.r1i1p1f1.Amon.rlds.gr1.v20190619',\n",
    "    time='2020-01-01/2020-12-30',\n",
    "    area='-50,-50,50,50'\n",
    ")\n",
    "resp.ok"
   ]
  },
  {
   "cell_type": "code",
   "execution_count": null,
   "id": "covered-institution",
   "metadata": {},
   "outputs": [],
   "source": [
    "# time and area\n",
    "resp = rooki.subset(\n",
    "    collection='c3s-cmip6.ScenarioMIP.INM.INM-CM5-0.ssp245.r1i1p1f1.Amon.rlds.gr1.v20190619',\n",
    "    time='2020-01-01/2020-12-30',\n",
    "    area='-200,40,-50,80'\n",
    ")\n",
    "resp.ok"
   ]
  }
 ],
 "metadata": {
  "kernelspec": {
   "display_name": "Python 3",
   "language": "python",
   "name": "python3"
  },
  "language_info": {
   "codemirror_mode": {
    "name": "ipython",
    "version": 3
   },
   "file_extension": ".py",
   "mimetype": "text/x-python",
   "name": "python",
   "nbconvert_exporter": "python",
   "pygments_lexer": "ipython3",
   "version": "3.9.2"
  }
 },
 "nbformat": 4,
 "nbformat_minor": 5
}
