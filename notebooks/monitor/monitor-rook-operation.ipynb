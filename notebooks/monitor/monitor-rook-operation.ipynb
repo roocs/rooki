{
 "cells": [
  {
   "cell_type": "code",
   "execution_count": null,
   "id": "suspected-player",
   "metadata": {},
   "outputs": [],
   "source": [
    "import os\n",
    "os.environ['ROOK_URL'] = 'http://rook1.cloud.dkrz.de/wps'\n",
    "# os.environ['ROOK_URL'] = 'http://compute.mips.copernicus-climate.eu/wps'\n",
    "os.environ['ROOK_MODE'] = \"async\"\n",
    "\n",
    "from rooki import rooki"
   ]
  },
  {
   "cell_type": "markdown",
   "id": "medium-davis",
   "metadata": {},
   "source": [
    "## Check GetCapabilities"
   ]
  },
  {
   "cell_type": "code",
   "execution_count": null,
   "id": "fifty-oklahoma",
   "metadata": {},
   "outputs": [],
   "source": [
    "assert hasattr(rooki, 'subset')"
   ]
  },
  {
   "cell_type": "code",
   "execution_count": null,
   "id": "academic-scope",
   "metadata": {},
   "outputs": [],
   "source": [
    "assert hasattr(rooki, 'average')"
   ]
  },
  {
   "cell_type": "code",
   "execution_count": null,
   "id": "centered-mexican",
   "metadata": {},
   "outputs": [],
   "source": [
    "assert hasattr(rooki, 'orchestrate')"
   ]
  },
  {
   "cell_type": "markdown",
   "id": "favorite-surrey",
   "metadata": {},
   "source": [
    "## Check DescribeProcess"
   ]
  },
  {
   "cell_type": "code",
   "execution_count": null,
   "id": "heard-leonard",
   "metadata": {},
   "outputs": [],
   "source": [
    "import inspect\n",
    "signature = inspect.signature(rooki.subset)"
   ]
  },
  {
   "cell_type": "code",
   "execution_count": null,
   "id": "proved-definition",
   "metadata": {},
   "outputs": [],
   "source": [
    "assert \"collection\" in signature.parameters"
   ]
  },
  {
   "cell_type": "code",
   "execution_count": null,
   "id": "dirty-trader",
   "metadata": {},
   "outputs": [],
   "source": [
    "assert \"time\" in signature.parameters"
   ]
  },
  {
   "cell_type": "code",
   "execution_count": null,
   "id": "adjusted-trial",
   "metadata": {},
   "outputs": [],
   "source": [
    "assert \"area\" in signature.parameters"
   ]
  },
  {
   "cell_type": "markdown",
   "id": "significant-gravity",
   "metadata": {},
   "source": [
    "## Check Execute"
   ]
  },
  {
   "cell_type": "code",
   "execution_count": null,
   "id": "coordinate-millennium",
   "metadata": {},
   "outputs": [],
   "source": [
    "# use common cmip6 collection\n",
    "collection=\"c3s-cmip6.ScenarioMIP.INM.INM-CM5-0.ssp245.r1i1p1f1.Amon.rlds.gr1.v20190619\""
   ]
  },
  {
   "cell_type": "markdown",
   "id": "deluxe-biography",
   "metadata": {},
   "source": [
    "### Subset time"
   ]
  },
  {
   "cell_type": "code",
   "execution_count": null,
   "id": "registered-lunch",
   "metadata": {},
   "outputs": [],
   "source": [
    "resp = rooki.subset(\n",
    "    collection=collection,\n",
    "    time='2020-01-01/2020-12-30',\n",
    ")\n",
    "assert resp.ok"
   ]
  },
  {
   "cell_type": "code",
   "execution_count": null,
   "id": "normal-leeds",
   "metadata": {},
   "outputs": [],
   "source": [
    "ds = resp.datasets()[0]\n",
    "assert 'rlds' in ds.variables"
   ]
  },
  {
   "cell_type": "markdown",
   "id": "played-pontiac",
   "metadata": {},
   "source": [
    "### Subset time ... original files"
   ]
  },
  {
   "cell_type": "code",
   "execution_count": null,
   "id": "removable-andorra",
   "metadata": {},
   "outputs": [],
   "source": [
    "resp = rooki.subset(\n",
    "    collection=collection,\n",
    "    time=\"2015-01-16T12:00:00/2100-12-16T12:00:00\",\n",
    ")\n",
    "assert resp.ok"
   ]
  },
  {
   "cell_type": "code",
   "execution_count": null,
   "id": "wireless-mailman",
   "metadata": {},
   "outputs": [],
   "source": [
    "\"data.mips.copernicus-climate.eu\" in resp.download_urls()[0]"
   ]
  },
  {
   "cell_type": "markdown",
   "id": "split-saver",
   "metadata": {},
   "source": [
    "### Subset time ... orignal files ... extended time range"
   ]
  },
  {
   "cell_type": "code",
   "execution_count": null,
   "id": "behind-athletics",
   "metadata": {},
   "outputs": [],
   "source": [
    "resp = rooki.subset(\n",
    "    collection=collection,\n",
    "    time=\"1900-01-01/2500-12-30\",\n",
    ")\n",
    "assert resp.ok"
   ]
  },
  {
   "cell_type": "code",
   "execution_count": null,
   "id": "fitted-consciousness",
   "metadata": {},
   "outputs": [],
   "source": [
    "\"data.mips.copernicus-climate.eu\" in resp.download_urls()[0]"
   ]
  },
  {
   "cell_type": "markdown",
   "id": "surface-bradley",
   "metadata": {},
   "source": [
    "### Subset time ... original files ... no time parameter"
   ]
  },
  {
   "cell_type": "code",
   "execution_count": null,
   "id": "likely-litigation",
   "metadata": {},
   "outputs": [],
   "source": [
    "resp = rooki.subset(\n",
    "    collection=collection,\n",
    ")\n",
    "assert resp.ok"
   ]
  },
  {
   "cell_type": "code",
   "execution_count": null,
   "id": "absent-computer",
   "metadata": {},
   "outputs": [],
   "source": [
    "assert \"data.mips.copernicus-climate.eu\" in resp.download_urls()[0]"
   ]
  },
  {
   "cell_type": "markdown",
   "id": "final-footwear",
   "metadata": {},
   "source": [
    "### Subset time and area  ... positive lat/lon"
   ]
  },
  {
   "cell_type": "code",
   "execution_count": null,
   "id": "legendary-orbit",
   "metadata": {},
   "outputs": [],
   "source": [
    "resp = rooki.subset(\n",
    "    collection=collection,\n",
    "    time=\"2020-01-01/2020-12-30\",\n",
    "    area=\"10,10,40,40\"\n",
    ")\n",
    "assert resp.ok"
   ]
  },
  {
   "cell_type": "code",
   "execution_count": null,
   "id": "weighted-wages",
   "metadata": {},
   "outputs": [],
   "source": [
    "ds = resp.datasets()[0]\n",
    "assert 'rlds' in ds.variables"
   ]
  },
  {
   "cell_type": "markdown",
   "id": "loaded-sunset",
   "metadata": {},
   "source": [
    "### Subset time and area ... negative lat/lon"
   ]
  },
  {
   "cell_type": "code",
   "execution_count": null,
   "id": "dirty-valley",
   "metadata": {},
   "outputs": [],
   "source": [
    "resp = rooki.subset(\n",
    "    collection=collection,\n",
    "    time='2020-01-01/2020-12-30',\n",
    "    area='-50,-50,-10,-10'\n",
    ")\n",
    "assert resp.ok"
   ]
  },
  {
   "cell_type": "code",
   "execution_count": null,
   "id": "pretty-cylinder",
   "metadata": {},
   "outputs": [],
   "source": [
    "ds = resp.datasets()[0]\n",
    "assert 'rlds' in ds.variables"
   ]
  },
  {
   "cell_type": "markdown",
   "id": "twenty-playing",
   "metadata": {},
   "source": [
    "### Subset time and area ... cross meridian"
   ]
  },
  {
   "cell_type": "code",
   "execution_count": null,
   "id": "initial-boring",
   "metadata": {},
   "outputs": [],
   "source": [
    "resp = rooki.subset(\n",
    "    collection=collection,\n",
    "    time='2020-01-01/2020-12-30',\n",
    "    area='-50,-50,50,50'\n",
    ")\n",
    "assert resp.ok"
   ]
  },
  {
   "cell_type": "code",
   "execution_count": null,
   "id": "relative-antigua",
   "metadata": {},
   "outputs": [],
   "source": [
    "ds = resp.datasets()[0]\n",
    "assert 'rlds' in ds.variables"
   ]
  },
  {
   "cell_type": "markdown",
   "id": "taken-massachusetts",
   "metadata": {},
   "source": [
    "### Subset time and area ... negative lat, positive lon"
   ]
  },
  {
   "cell_type": "code",
   "execution_count": null,
   "id": "facial-scoop",
   "metadata": {},
   "outputs": [],
   "source": [
    "resp = rooki.subset(\n",
    "    collection=collection,\n",
    "    time='2020-01-01/2020-12-30',\n",
    "    area='-200,40,-50,80'\n",
    ")\n",
    "assert resp.ok"
   ]
  },
  {
   "cell_type": "code",
   "execution_count": null,
   "id": "divided-criticism",
   "metadata": {},
   "outputs": [],
   "source": [
    "ds = resp.datasets()[0]\n",
    "assert 'rlds' in ds.variables"
   ]
  }
 ],
 "metadata": {
  "kernelspec": {
   "display_name": "Python 3",
   "language": "python",
   "name": "python3"
  },
  "language_info": {
   "codemirror_mode": {
    "name": "ipython",
    "version": 3
   },
   "file_extension": ".py",
   "mimetype": "text/x-python",
   "name": "python",
   "nbconvert_exporter": "python",
   "pygments_lexer": "ipython3",
   "version": "3.9.2"
  }
 },
 "nbformat": 4,
 "nbformat_minor": 5
}
