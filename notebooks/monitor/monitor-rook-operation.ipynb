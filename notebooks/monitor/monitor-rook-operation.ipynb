{
 "cells": [
  {
   "cell_type": "code",
   "execution_count": null,
   "id": "exclusive-meaning",
   "metadata": {},
   "outputs": [],
   "source": [
    "import os\n",
    "os.environ['ROOK_URL'] = 'http://rook1.cloud.dkrz.de/wps'\n",
    "# os.environ['ROOK_URL'] = 'http://compute.mips.copernicus-climate.eu/wps'\n",
    "os.environ['ROOK_MODE'] = \"async\"\n",
    "\n",
    "from rooki import rooki"
   ]
  },
  {
   "cell_type": "markdown",
   "id": "selected-destiny",
   "metadata": {},
   "source": [
    "## Check GetCapabilities"
   ]
  },
  {
   "cell_type": "code",
   "execution_count": null,
   "id": "southeast-serum",
   "metadata": {},
   "outputs": [],
   "source": [
    "assert hasattr(rooki, 'subset')"
   ]
  },
  {
   "cell_type": "code",
   "execution_count": null,
   "id": "stable-future",
   "metadata": {},
   "outputs": [],
   "source": [
    "assert hasattr(rooki, 'average')"
   ]
  },
  {
   "cell_type": "code",
   "execution_count": null,
   "id": "million-ownership",
   "metadata": {},
   "outputs": [],
   "source": [
    "assert hasattr(rooki, 'orchestrate')"
   ]
  },
  {
   "cell_type": "markdown",
   "id": "violent-lightweight",
   "metadata": {},
   "source": [
    "## Check DescribeProcess"
   ]
  },
  {
   "cell_type": "code",
   "execution_count": null,
   "id": "appreciated-tractor",
   "metadata": {},
   "outputs": [],
   "source": [
    "import inspect\n",
    "signature = inspect.signature(rooki.subset)"
   ]
  },
  {
   "cell_type": "code",
   "execution_count": null,
   "id": "educated-forum",
   "metadata": {},
   "outputs": [],
   "source": [
    "assert \"collection\" in signature.parameters"
   ]
  },
  {
   "cell_type": "code",
   "execution_count": null,
   "id": "motivated-longer",
   "metadata": {},
   "outputs": [],
   "source": [
    "assert \"time\" in signature.parameters"
   ]
  },
  {
   "cell_type": "code",
   "execution_count": null,
   "id": "hundred-workshop",
   "metadata": {},
   "outputs": [],
   "source": [
    "assert \"area\" in signature.parameters"
   ]
  },
  {
   "cell_type": "markdown",
   "id": "toxic-minutes",
   "metadata": {},
   "source": [
    "## Check Execute"
   ]
  },
  {
   "cell_type": "code",
   "execution_count": null,
   "id": "differential-fossil",
   "metadata": {},
   "outputs": [],
   "source": [
    "# use common cmip6 collection\n",
    "collection=\"c3s-cmip6.ScenarioMIP.INM.INM-CM5-0.ssp245.r1i1p1f1.Amon.rlds.gr1.v20190619\""
   ]
  },
  {
   "cell_type": "markdown",
   "id": "considerable-reporter",
   "metadata": {},
   "source": [
    "### Subset time"
   ]
  },
  {
   "cell_type": "code",
   "execution_count": null,
   "id": "thirty-occurrence",
   "metadata": {},
   "outputs": [],
   "source": [
    "resp = rooki.subset(\n",
    "    collection=collection,\n",
    "    time='2020-01-01/2020-12-30',\n",
    ")\n",
    "assert resp.ok"
   ]
  },
  {
   "cell_type": "code",
   "execution_count": null,
   "id": "phantom-shame",
   "metadata": {},
   "outputs": [],
   "source": [
    "ds = resp.datasets()[0]\n",
    "assert 'rlds' in ds.variables"
   ]
  },
  {
   "cell_type": "markdown",
   "id": "democratic-wilson",
   "metadata": {},
   "source": [
    "### Subset time ... original files"
   ]
  },
  {
   "cell_type": "code",
   "execution_count": null,
   "id": "circular-maldives",
   "metadata": {},
   "outputs": [],
   "source": [
    "resp = rooki.subset(\n",
    "    collection=collection,\n",
    "    time=\"2015-01-16T12:00:00/2100-12-16T12:00:00\",\n",
    ")\n",
    "assert resp.ok"
   ]
  },
  {
   "cell_type": "code",
   "execution_count": null,
   "id": "endangered-candidate",
   "metadata": {},
   "outputs": [],
   "source": [
    "\"data.mips.copernicus-climate.eu\" in resp.download_urls()[0]"
   ]
  },
  {
   "cell_type": "markdown",
   "id": "polyphonic-event",
   "metadata": {},
   "source": [
    "### Subset time ... orignal files ... extended time range"
   ]
  },
  {
   "cell_type": "code",
   "execution_count": null,
   "id": "waiting-better",
   "metadata": {},
   "outputs": [],
   "source": [
    "resp = rooki.subset(\n",
    "    collection=collection,\n",
    "    time=\"1900-01-01/2500-12-30\",\n",
    ")\n",
    "assert resp.ok"
   ]
  },
  {
   "cell_type": "code",
   "execution_count": null,
   "id": "built-correlation",
   "metadata": {},
   "outputs": [],
   "source": [
    "\"data.mips.copernicus-climate.eu\" in resp.download_urls()[0]"
   ]
  },
  {
   "cell_type": "markdown",
   "id": "helpful-fashion",
   "metadata": {},
   "source": [
    "### Subset time ... original files ... no time parameter"
   ]
  },
  {
   "cell_type": "code",
   "execution_count": null,
   "id": "enabling-quality",
   "metadata": {},
   "outputs": [],
   "source": [
    "resp = rooki.subset(\n",
    "    collection=collection,\n",
    ")\n",
    "assert resp.ok"
   ]
  },
  {
   "cell_type": "code",
   "execution_count": null,
   "id": "mysterious-death",
   "metadata": {},
   "outputs": [],
   "source": [
    "assert \"data.mips.copernicus-climate.eu\" in resp.download_urls()[0]"
   ]
  },
  {
   "cell_type": "markdown",
   "id": "caring-affect",
   "metadata": {},
   "source": [
    "### Subset time and area  ... positive lat/lon"
   ]
  },
  {
   "cell_type": "code",
   "execution_count": null,
   "id": "defined-forty",
   "metadata": {},
   "outputs": [],
   "source": [
    "resp = rooki.subset(\n",
    "    collection=collection,\n",
    "    time=\"2020-01-01/2020-12-30\",\n",
    "    area=\"10,10,40,40\"\n",
    ")\n",
    "assert resp.ok"
   ]
  },
  {
   "cell_type": "code",
   "execution_count": null,
   "id": "introductory-basketball",
   "metadata": {},
   "outputs": [],
   "source": [
    "ds = resp.datasets()[0]\n",
    "assert 'rlds' in ds.variables"
   ]
  },
  {
   "cell_type": "markdown",
   "id": "promising-reflection",
   "metadata": {},
   "source": [
    "### Subset time and area ... negative lat/lon"
   ]
  },
  {
   "cell_type": "code",
   "execution_count": null,
   "id": "indoor-delta",
   "metadata": {},
   "outputs": [],
   "source": [
    "resp = rooki.subset(\n",
    "    collection=collection,\n",
    "    time='2020-01-01/2020-12-30',\n",
    "    area='-50,-50,-10,-10'\n",
    ")\n",
    "assert resp.ok"
   ]
  },
  {
   "cell_type": "code",
   "execution_count": null,
   "id": "aggregate-control",
   "metadata": {},
   "outputs": [],
   "source": [
    "ds = resp.datasets()[0]\n",
    "assert 'rlds' in ds.variables"
   ]
  },
  {
   "cell_type": "markdown",
   "id": "adult-appearance",
   "metadata": {},
   "source": [
    "### Subset time and area ... cross meridian"
   ]
  },
  {
   "cell_type": "code",
   "execution_count": null,
   "id": "single-spell",
   "metadata": {},
   "outputs": [],
   "source": [
    "resp = rooki.subset(\n",
    "    collection=collection,\n",
    "    time='2020-01-01/2020-12-30',\n",
    "    area='-50,-50,50,50'\n",
    ")\n",
    "assert resp.ok"
   ]
  },
  {
   "cell_type": "code",
   "execution_count": null,
   "id": "reported-ending",
   "metadata": {},
   "outputs": [],
   "source": [
    "ds = resp.datasets()[0]\n",
    "assert 'rlds' in ds.variables"
   ]
  },
  {
   "cell_type": "markdown",
   "id": "endless-hearts",
   "metadata": {},
   "source": [
    "### Subset time and area ... negative lat, positive lon"
   ]
  },
  {
   "cell_type": "code",
   "execution_count": null,
   "id": "domestic-lover",
   "metadata": {},
   "outputs": [],
   "source": [
    "resp = rooki.subset(\n",
    "    collection=collection,\n",
    "    time='2020-01-01/2020-12-30',\n",
    "    area='-200,40,-50,80'\n",
    ")\n",
    "assert resp.ok"
   ]
  },
  {
   "cell_type": "code",
   "execution_count": null,
   "id": "coated-outreach",
   "metadata": {},
   "outputs": [],
   "source": [
    "ds = resp.datasets()[0]\n",
    "assert 'rlds' in ds.variables"
   ]
  }
 ],
 "metadata": {
  "kernelspec": {
   "display_name": "Python 3",
   "language": "python",
   "name": "python3"
  },
  "language_info": {
   "codemirror_mode": {
    "name": "ipython",
    "version": 3
   },
   "file_extension": ".py",
   "mimetype": "text/x-python",
   "name": "python",
   "nbconvert_exporter": "python",
   "pygments_lexer": "ipython3",
   "version": "3.9.2"
  }
 },
 "nbformat": 4,
 "nbformat_minor": 5
}
